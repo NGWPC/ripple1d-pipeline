{
 "cells": [
  {
   "cell_type": "markdown",
   "metadata": {},
   "source": [
    "# Setup Resources for Processing"
   ]
  },
  {
   "cell_type": "code",
   "execution_count": null,
   "metadata": {},
   "outputs": [],
   "source": [
    "%load_ext autoreload\n",
    "%autoreload 2\n",
    "\n",
    "from .src.setup import *\n",
    "from .src import *"
   ]
  },
  {
   "cell_type": "markdown",
   "metadata": {},
   "source": [
    "### `Paramters`"
   ]
  },
  {
   "cell_type": "code",
   "execution_count": null,
   "metadata": {},
   "outputs": [],
   "source": [
    "collection_name = \"\" # Define collection name - example: \"ble_12100302_Medina\""
   ]
  },
  {
   "cell_type": "markdown",
   "metadata": {},
   "source": [
    "### Instantiate CollectionData Object & Create Folders"
   ]
  },
  {
   "cell_type": "code",
   "execution_count": null,
   "metadata": {
    "tags": [
     "parameters"
    ]
   },
   "outputs": [],
   "source": [
    "collection = CollectionData(collection_name)\n",
    "collection.create_folders()"
   ]
  },
  {
   "cell_type": "markdown",
   "metadata": {},
   "source": [
    "### Instantiate STACImporter Object & Download Models"
   ]
  },
  {
   "cell_type": "code",
   "execution_count": null,
   "metadata": {},
   "outputs": [],
   "source": [
    "#Instantiate STACImporter Class \n",
    "models = STACImporter(collection)\n",
    "models.get_models_from_stac()\n",
    "models.download_models_data()\n",
    "\n",
    "# Call the combine_river_tables function which aggregates all river tables from each model into one gpkg file\n",
    "combine_river_tables(models.models_data, collection)"
   ]
  },
  {
   "cell_type": "markdown",
   "metadata": {},
   "source": [
    "### Combine River Tables & Filter NWM Reaches"
   ]
  },
  {
   "cell_type": "code",
   "execution_count": null,
   "metadata": {},
   "outputs": [],
   "source": [
    "# Call filter_nwm_reaches, which filters NWM flowlines that intersect with the convex hull of the River table from river_gpkg_path.gpkg\n",
    "#  and saves the result to a new GPKG file (db_path). The collection.db_path file (ripple.gpkg) is what is further utilized as the \"database\".\n",
    "combine_river_tables(models.models_data, collection)\n",
    "\n",
    "filter_nwm_reaches(collection)"
   ]
  },
  {
   "cell_type": "markdown",
   "metadata": {},
   "source": [
    "### Initialize Database & Insert models"
   ]
  },
  {
   "cell_type": "code",
   "execution_count": null,
   "metadata": {},
   "outputs": [],
   "source": [
    "# Initialize database and insert models\n",
    "Database.init_db(collection)\n",
    "Database.insert_models(models.models_data, collection)"
   ]
  }
 ],
 "metadata": {
  "kernelspec": {
   "display_name": "ripple1d",
   "language": "python",
   "name": "ripple1d"
  },
  "language_info": {
   "codemirror_mode": {
    "name": "ipython",
    "version": 3
   },
   "file_extension": ".py",
   "mimetype": "text/x-python",
   "name": "python",
   "nbconvert_exporter": "python",
   "pygments_lexer": "ipython3",
   "version": "3.10.12"
  }
 },
 "nbformat": 4,
 "nbformat_minor": 4
}
