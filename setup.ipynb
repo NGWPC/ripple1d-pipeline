{
 "cells": [
  {
   "cell_type": "markdown",
   "metadata": {},
   "source": [
    "# Setup Resources for Processing"
   ]
  },
  {
   "cell_type": "code",
   "execution_count": 1,
   "metadata": {},
   "outputs": [],
   "source": [
    "%load_ext autoreload\n",
    "%autoreload 2\n",
    "\n",
    "from src.setup import *\n",
    "from src import *"
   ]
  },
  {
   "cell_type": "markdown",
   "metadata": {},
   "source": [
    "### `Paramters`"
   ]
  },
  {
   "cell_type": "code",
   "execution_count": null,
   "metadata": {},
   "outputs": [],
   "source": [
    "collection_name = \"\" # Define collection name - example: \"ble_12100302_Medina\"\n",
    "# collection_name = \"Baxter_0_7_0\""
   ]
  },
  {
   "cell_type": "markdown",
   "metadata": {},
   "source": [
    "### Instantiate CollectionData Object & Create Folders"
   ]
  },
  {
   "cell_type": "code",
   "execution_count": 3,
   "metadata": {
    "tags": [
     "parameters"
    ]
   },
   "outputs": [],
   "source": [
    "collection = CollectionData(collection_name)\n",
    "collection.create_folders()"
   ]
  },
  {
   "cell_type": "markdown",
   "metadata": {},
   "source": [
    "### Instantiate STACImporter Object & Download Models"
   ]
  },
  {
   "cell_type": "code",
   "execution_count": null,
   "metadata": {},
   "outputs": [],
   "source": [
    "#Instantiate STACImporter Class\n",
    "stac_importer = STACImporter(collection)\n",
    "stac_importer.get_models_from_stac()\n",
    "stac_importer.download_models_data()\n",
    "models_data = stac_importer.models_data()\n",
    "# models_data = {\"Baxter\": {\"model_name\": \"Baxter\"}}"
   ]
  },
  {
   "cell_type": "markdown",
   "metadata": {},
   "source": [
    "### Combine River Tables & Filter NWM Reaches"
   ]
  },
  {
   "cell_type": "code",
   "execution_count": null,
   "metadata": {},
   "outputs": [],
   "source": [
    "# Call filter_nwm_reaches, which filters NWM flowlines that intersect with the convex hull of the River table from river_gpkg_path.gpkg\n",
    "#  and saves the result to a new GPKG file (db_path). The collection.db_path file (ripple.gpkg) is what is further utilized as the \"database\".\n",
    "combine_river_tables(models_data, collection)\n",
    "\n",
    "filter_nwm_reaches(collection)"
   ]
  },
  {
   "cell_type": "markdown",
   "metadata": {},
   "source": [
    "### Initialize Database & Insert models"
   ]
  },
  {
   "cell_type": "code",
   "execution_count": null,
   "metadata": {},
   "outputs": [],
   "source": [
    "# Initialize database and insert models\n",
    "Database.init_db(collection)\n",
    "Database.insert_models(models_data, collection)"
   ]
  }
 ],
 "metadata": {
  "kernelspec": {
   "display_name": "ripple1d_pipeline",
   "language": "python",
   "name": "python3"
  },
  "language_info": {
   "codemirror_mode": {
    "name": "ipython",
    "version": 3
   },
   "file_extension": ".py",
   "mimetype": "text/x-python",
   "name": "python",
   "nbconvert_exporter": "python",
   "pygments_lexer": "ipython3",
   "version": "3.12.4"
  }
 },
 "nbformat": 4,
 "nbformat_minor": 4
}
