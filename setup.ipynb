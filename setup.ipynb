{
    "cells": [
        {
            "cell_type": "markdown",
            "metadata": {},
            "source": [
                "# Setup Resources for Processing"
            ]
        },
        {
            "cell_type": "code",
            "execution_count": 1,
            "metadata": {},
            "outputs": [],
            "source": [
                "%load_ext autoreload\n",
                "%autoreload 2\n",
                "\n",
                "from scripts.setup import *\n",
                "import os"
            ]
        },
        {
            "cell_type": "markdown",
            "metadata": {},
            "source": [
                "### `Parameters`"
            ]
        },
        {
            "cell_type": "code",
            "execution_count": 2,
            "metadata": {
                "tags": [
                    "parameters"
                ]
            },
            "outputs": [],
            "source": [
                "stac_endpoint = \"https://stac2.dewberryanalytics.com\"  # STAC API endpoint\n",
                "stac_collection = \"ble_12040103_EastForkSanJacinto\"  # Collection name\n",
                "root_dir = r\"Z:\\collections\\ble_12040103_EastForkSanJacinto\"\n",
                "\n",
                "nwm_flowlines_path = r\"Z:\\reference_data\\nwm_flowlines.parquet\"\n",
                "\n",
                "db_path = os.path.join(root_dir, \"ripple.gpkg\")\n",
                "merged_gpkg_path = os.path.join(root_dir, \"source_models\", \"all_rivers.gpkg\")"
            ]
        },
        {
            "cell_type": "markdown",
            "metadata": {},
            "source": [
                "### Create Folder Structure"
            ]
        },
        {
            "cell_type": "code",
            "execution_count": 4,
            "metadata": {},
            "outputs": [
                {
                    "name": "stdout",
                    "output_type": "stream",
                    "text": [
                        "Folders created successfully inside Z:\\collections\\ble_12040103_EastForkSanJacinto\n"
                    ]
                }
            ],
            "source": [
                "source_models_dir, submodels_dir, library_dir = create_folders(root_dir)"
            ]
        },
        {
            "cell_type": "markdown",
            "metadata": {},
            "source": [
                "### Download Models"
            ]
        },
        {
            "cell_type": "code",
            "execution_count": 8,
            "metadata": {},
            "outputs": [
                {
                    "name": "stdout",
                    "output_type": "stream",
                    "text": [
                        "Total 408 models in this collection\n",
                        "Total 408 filtered models.\n",
                        "Combined River tables saved to Z:\\collections\\ble_12040103_EastForkSanJacinto\\source_models\\all_rivers.gpkg\n"
                    ]
                }
            ],
            "source": [
                "models_data = get_models_from_stac(stac_endpoint, stac_collection)\n",
                "# or get based on some geographic unit\n",
                "# download_models_data(models_data, source_models_dir)\n",
                "model_ids = list(models_data.keys())\n",
                "# model_ids = [\"Baxter\"]\n",
                "\n",
                "combine_river_tables(source_models_dir, models_data, merged_gpkg_path)"
            ]
        },
        {
            "cell_type": "markdown",
            "metadata": {},
            "source": [
                "### Create Database"
            ]
        },
        {
            "cell_type": "code",
            "execution_count": 12,
            "metadata": {},
            "outputs": [
                {
                    "name": "stdout",
                    "output_type": "stream",
                    "text": [
                        "Subset NWM flowlines written to reaches table Z:\\collections\\ble_12040103_EastForkSanJacinto\\ripple.gpkg\n",
                        "Database initialized successfully at Z:\\collections\\ble_12040103_EastForkSanJacinto\\ripple.gpkg\n"
                    ]
                }
            ],
            "source": [
                "filter_nwm_reaches(nwm_flowlines_path, merged_gpkg_path, db_path)\n",
                "init_db(db_path)"
            ]
        },
        {
            "cell_type": "code",
            "execution_count": null,
            "metadata": {},
            "outputs": [],
            "source": []
        }
    ],
    "metadata": {
        "kernelspec": {
            "display_name": "Python 3 (ipykernel)",
            "language": "python",
            "name": "python3"
        },
        "language_info": {
            "codemirror_mode": {
                "name": "ipython",
                "version": 3
            },
            "file_extension": ".py",
            "mimetype": "text/x-python",
            "name": "python",
            "nbconvert_exporter": "python",
            "pygments_lexer": "ipython3",
            "version": "3.12.4"
        }
    },
    "nbformat": 4,
    "nbformat_minor": 4
}