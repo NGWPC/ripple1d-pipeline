{
 "cells": [
  {
   "cell_type": "markdown",
   "metadata": {},
   "source": [
    "# QC a Processed Collection"
   ]
  },
  {
   "cell_type": "code",
   "execution_count": null,
   "metadata": {},
   "outputs": [],
   "source": [
    "%load_ext autoreload\n",
    "%autoreload 2\n",
    "\n",
    "from src import *\n",
    "from src.setup import *\n",
    "from src.process import *\n",
    "from src.qc import *"
   ]
  },
  {
   "cell_type": "markdown",
   "metadata": {},
   "source": [
    "### `parameters`"
   ]
  },
  {
   "cell_type": "code",
   "execution_count": null,
   "metadata": {
    "tags": [
     "parameters"
    ]
   },
   "outputs": [],
   "source": [
    "collection_name = \"\" # Define Collection name - example: \"ble_12100302_Medina\"\n",
    "# collection_name = \"Baxter_0_7_0\""
   ]
  },
  {
   "cell_type": "markdown",
   "metadata": {},
   "source": [
    "### Instantiate CollectionData, Database, and JobClient objects"
   ]
  },
  {
   "cell_type": "code",
   "execution_count": null,
   "metadata": {},
   "outputs": [],
   "source": [
    "collection = CollectionData(collection_name)\n",
    "database = Database(collection)\n",
    "job_client = JobClient(collection)"
   ]
  },
  {
   "cell_type": "markdown",
   "metadata": {},
   "source": [
    "### Create Excel Error Report"
   ]
  },
  {
   "cell_type": "code",
   "execution_count": null,
   "metadata": {},
   "outputs": [],
   "source": [
    "%%time\n",
    "dfs = []\n",
    "for process_name in [\"conflate_model\"]:\n",
    "    # Capture the final status of unknown status jobs\n",
    "    job_client.poll_and_update_job_status(database, process_name, \"models\")\n",
    "    _, _, failed_reaches = database.get_reach_status_by_process(process_name, \"models\")\n",
    "    df = job_client.get_failed_jobs_df(failed_reaches)\n",
    "    dfs.append(df)\n",
    "    write_failed_jobs_df_to_excel(df, process_name, collection.error_report_path)"
   ]
  },
  {
   "cell_type": "code",
   "execution_count": null,
   "metadata": {},
   "outputs": [],
   "source": [
    "\n",
    "%%time\n",
    "dfs = []\n",
    "for process_name in [\n",
    "    \"extract_submodel\",\n",
    "    \"create_ras_terrain\",\n",
    "    \"create_model_run_normal_depth\",\n",
    "    \"run_incremental_normal_depth\",\n",
    "    \"run_iknown_wse\",\n",
    "    \"create_irating_curves_db\",\n",
    "    \"run_known_wse\",\n",
    "    \"create_rating_curves_db\",\n",
    "    \"create_fim_lib\",\n",
    "]:\n",
    "    # Capture the final status of unknown status jobs\n",
    "    job_client.poll_and_update_job_status(database, process_name)\n",
    "    _, _, failed_reaches = database.get_reach_status_by_process(process_name)\n",
    "    df = job_client.get_failed_jobs_df(failed_reaches)\n",
    "    dfs.append(df)\n",
    "    write_failed_jobs_df_to_excel(df, process_name, collection.error_report_path)"
   ]
  },
  {
   "cell_type": "markdown",
   "metadata": {},
   "source": [
    "### Create QC Map"
   ]
  },
  {
   "cell_type": "code",
   "execution_count": null,
   "metadata": {},
   "outputs": [],
   "source": [
    "copy_qc_map(collection)"
   ]
  },
  {
   "cell_type": "markdown",
   "metadata": {},
   "source": [
    "### Create Composite Rasters (flows2fim)"
   ]
  },
  {
   "cell_type": "code",
   "execution_count": null,
   "metadata": {},
   "outputs": [],
   "source": [
    "%%time\n",
    "\n",
    "run_flows2fim(collection)"
   ]
  },
  {
   "cell_type": "code",
   "execution_count": null,
   "metadata": {},
   "outputs": [],
   "source": []
  }
 ],
 "metadata": {
  "kernelspec": {
   "display_name": "ripple1d_pipeline",
   "language": "python",
   "name": "python3"
  },
  "language_info": {
   "codemirror_mode": {
    "name": "ipython",
    "version": 3
   },
   "file_extension": ".py",
   "mimetype": "text/x-python",
   "name": "python",
   "nbconvert_exporter": "python",
   "pygments_lexer": "ipython3",
   "version": "3.12.4"
  }
 },
 "nbformat": 4,
 "nbformat_minor": 2
}
