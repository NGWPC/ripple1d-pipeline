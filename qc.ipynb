{
    "cells": [
        {
            "cell_type": "code",
            "execution_count": 1,
            "metadata": {},
            "outputs": [],
            "source": [
                "# QC a Processed Collection"
            ]
        },
        {
            "cell_type": "code",
            "execution_count": 1,
            "metadata": {},
            "outputs": [],
            "source": [
                "%load_ext autoreload\n",
                "%autoreload 2\n",
                "\n",
                "from src import *\n",
                "from src.qc import *\n",
                "\n",
                "import os"
            ]
        },
        {
            "cell_type": "markdown",
            "metadata": {},
            "source": [
                "### `parameters`"
            ]
        },
        {
            "cell_type": "code",
            "execution_count": 2,
            "metadata": {
                "tags": [
                    "parameters"
                ]
            },
            "outputs": [],
            "source": [
                "stac_collection_id = \"\"  # Collection name"
            ]
        },
        {
            "cell_type": "code",
            "execution_count": 3,
            "metadata": {},
            "outputs": [],
            "source": [
                "root_dir = os.path.join(COLLECTIONS_ROOT_DIR, stac_collection_id)\n",
                "db_path = os.path.join(root_dir, \"ripple.gpkg\")\n",
                "library_dir = os.path.join(root_dir, \"library\")\n",
                "error_report_path = os.path.join(root_dir, \"error_report.xlsx\")\n",
                "f2f_start_file = os.path.join(root_dir, \"start_reaches.csv\")"
            ]
        },
        {
            "cell_type": "markdown",
            "metadata": {},
            "source": [
                "### Create Excel Error Report"
            ]
        },
        {
            "cell_type": "code",
            "execution_count": null,
            "metadata": {},
            "outputs": [],
            "source": [
                "%%time\n",
                "dfs = []\n",
                "for process_name in [\"conflate_model\"]:\n",
                "    # poll_and_update_job_status(db_path, process_name, \"models\")\n",
                "    _, failed_reaches, _ = get_reach_status_by_process(db_path, process_name, \"models\")\n",
                "    df = get_failed_jobs_df(failed_reaches)\n",
                "    dfs.append(df)\n",
                "    write_failed_jobs_df_to_excel(df, process_name, error_report_path)"
            ]
        },
        {
            "cell_type": "code",
            "execution_count": null,
            "metadata": {},
            "outputs": [],
            "source": [
                "\n",
                "%%time\n",
                "dfs = []\n",
                "for process_name in [\"extract_submodel\", \"create_ras_terrain\", \"create_model_run_normal_depth\", \"run_incremental_normal_depth\", \"run_iknown_wse\", \"create_irating_curves_db\", \"run_known_wse\", \"create_rating_curves_db\", \"create_fim_lib\"]:\n",
                "    # poll_and_update_job_status(db_path, process_name)\n",
                "    _, failed_reaches, _ = get_reach_status_by_process(db_path, process_name)\n",
                "    df = get_failed_jobs_df(failed_reaches)\n",
                "    dfs.append(df)\n",
                "    write_failed_jobs_df_to_excel(df, process_name, error_report_path)"
            ]
        },
        {
            "cell_type": "markdown",
            "metadata": {},
            "source": [
                "### Create QC Map"
            ]
        },
        {
            "cell_type": "code",
            "execution_count": 7,
            "metadata": {},
            "outputs": [],
            "source": [
                "copy_qc_map(root_dir)"
            ]
        },
        {
            "cell_type": "markdown",
            "metadata": {},
            "source": [
                "### Create Composite Rasters"
            ]
        },
        {
            "cell_type": "code",
            "execution_count": 9,
            "metadata": {},
            "outputs": [],
            "source": [
                "%%time\n",
                "\n",
                "run_flows2fim(\n",
                "    root_dir,\n",
                "    \"qc\",\n",
                "    library_dir,\n",
                "    db_path,\n",
                "    start_file = f2f_start_file\n",
                "    )"
            ]
        },
        {
            "cell_type": "code",
            "execution_count": null,
            "metadata": {},
            "outputs": [],
            "source": []
        }
    ],
    "metadata": {
        "kernelspec": {
            "display_name": "ripple1d_pipeline",
            "language": "python",
            "name": "python3"
        },
        "language_info": {
            "codemirror_mode": {
                "name": "ipython",
                "version": 3
            },
            "file_extension": ".py",
            "mimetype": "text/x-python",
            "name": "python",
            "nbconvert_exporter": "python",
            "pygments_lexer": "ipython3",
            "version": "3.12.4"
        }
    },
    "nbformat": 4,
    "nbformat_minor": 2
}
