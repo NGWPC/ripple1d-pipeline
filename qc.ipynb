{
 "cells": [
  {
   "cell_type": "markdown",
   "metadata": {},
   "source": [
    "# QC a Processed Collection"
   ]
  },
  {
   "cell_type": "code",
   "execution_count": null,
   "metadata": {},
   "outputs": [],
   "source": [
    "%load_ext autoreload\n",
    "%autoreload 2\n",
    "\n",
    "from src import *\n",
    "from src.setup import *\n",
    "from src.process import *\n",
    "from src.qc import *"
   ]
  },
  {
   "cell_type": "markdown",
   "metadata": {},
   "source": [
    "### `parameters`"
   ]
  },
  {
   "cell_type": "code",
   "execution_count": null,
   "metadata": {
    "tags": [
     "parameters"
    ]
   },
   "outputs": [],
   "source": [
    "collection_name = \"\" # Define Collection name - example: \"ble_12100302_Medina\"\n",
    "# collection_name = \"Baxter_0_10_0\""
   ]
  },
  {
   "cell_type": "markdown",
   "metadata": {},
   "source": [
    "### Instantiate CollectionData, Database, and JobClient objects"
   ]
  },
  {
   "cell_type": "code",
   "execution_count": null,
   "metadata": {},
   "outputs": [],
   "source": [
    "collection = CollectionData(collection_name)\n",
    "database = Database(collection)\n",
    "job_client = JobClient(collection)"
   ]
  },
  {
   "cell_type": "markdown",
   "metadata": {},
   "source": [
    "### Create Excel Error Report"
   ]
  },
  {
   "cell_type": "code",
   "execution_count": null,
   "metadata": {},
   "outputs": [],
   "source": [
    "dfs = []\n",
    "for step_name in collection.config[\"processing_steps\"].keys():\n",
    "    domain = collection.config[\"processing_steps\"][step_name][\"domain\"]\n",
    "    # Lets not capture the final status to preserve the timedout status jobs\n",
    "    # job_client.poll_and_update_job_status(database, step_name, \"models\" if domain == \"model\" else \"processing\")\n",
    "    _, _, failed_reaches = database.get_reach_status_by_process(\n",
    "        step_name, \"models\" if domain == \"model\" else \"processing\"\n",
    "    )\n",
    "    df = job_client.get_failed_jobs_df(failed_reaches)\n",
    "    dfs.append(df)\n",
    "    write_failed_jobs_df_to_excel(df, step_name, collection.error_report_path)"
   ]
  },
  {
   "cell_type": "markdown",
   "metadata": {},
   "source": [
    "### Create QC Map"
   ]
  },
  {
   "cell_type": "code",
   "execution_count": null,
   "metadata": {},
   "outputs": [],
   "source": [
    "copy_qc_map(collection)"
   ]
  },
  {
   "cell_type": "markdown",
   "metadata": {},
   "source": [
    "### Create Composite Rasters (flows2fim)"
   ]
  },
  {
   "cell_type": "code",
   "execution_count": null,
   "metadata": {},
   "outputs": [],
   "source": [
    "run_flows2fim(collection)"
   ]
  },
  {
   "cell_type": "code",
   "execution_count": null,
   "metadata": {},
   "outputs": [],
   "source": []
  }
 ],
 "metadata": {
  "kernelspec": {
   "display_name": "ripple1d_pipeline",
   "language": "python",
   "name": "python3"
  },
  "language_info": {
   "codemirror_mode": {
    "name": "ipython",
    "version": 3
   },
   "file_extension": ".py",
   "mimetype": "text/x-python",
   "name": "python",
   "nbconvert_exporter": "python",
   "pygments_lexer": "ipython3",
   "version": "3.12.4"
  }
 },
 "nbformat": 4,
 "nbformat_minor": 2
}
