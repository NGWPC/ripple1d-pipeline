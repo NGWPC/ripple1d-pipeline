{
 "cells": [
  {
   "cell_type": "markdown",
   "metadata": {},
   "source": [
    "# Process Source HEC-RAS Models\n",
    "Generate FIM Libraries for multiple HEC-RAS Models"
   ]
  },
  {
   "cell_type": "code",
   "execution_count": null,
   "metadata": {},
   "outputs": [],
   "source": [
    "%load_ext autoreload\n",
    "%autoreload 2\n",
    "\n",
    "from src import *\n",
    "from src.setup import *\n",
    "from src.process import *"
   ]
  },
  {
   "cell_type": "markdown",
   "metadata": {},
   "source": [
    "### `Parameters`"
   ]
  },
  {
   "cell_type": "code",
   "execution_count": null,
   "metadata": {},
   "outputs": [],
   "source": [
    "collection_name = \"\" # Define Collection name - example: \"ble_12100302_Medina\"\n",
    "# collection_name = \"Baxter_0_10_0\""
   ]
  },
  {
   "cell_type": "markdown",
   "metadata": {},
   "source": [
    "### Instantiate CollectionData, Database, and JobClient objects"
   ]
  },
  {
   "cell_type": "code",
   "execution_count": null,
   "metadata": {},
   "outputs": [],
   "source": [
    "collection = CollectionData(collection_name)\n",
    "database = Database(collection)\n",
    "jobclient = JobClient(collection)"
   ]
  },
  {
   "cell_type": "markdown",
   "metadata": {},
   "source": [
    "### Get Working Models"
   ]
  },
  {
   "cell_type": "code",
   "execution_count": null,
   "metadata": {},
   "outputs": [],
   "source": [
    "# Obtain models data from what is currently on disk.\n",
    "models = [Model(*model) for model in collection.get_models()]"
   ]
  },
  {
   "cell_type": "markdown",
   "metadata": {},
   "source": [
    "### Run `conflate_model`"
   ]
  },
  {
   "cell_type": "code",
   "execution_count": null,
   "metadata": {},
   "outputs": [],
   "source": [
    "conflate_step_processor = ConflateModelStepProcessor(collection, models)\n",
    "conflate_step_processor.execute_step(jobclient, database, timeout=20)"
   ]
  },
  {
   "cell_type": "markdown",
   "metadata": {},
   "source": [
    "### Load Conflation Information to Database"
   ]
  },
  {
   "cell_type": "code",
   "execution_count": null,
   "metadata": {},
   "outputs": [],
   "source": [
    "valid_models = conflate_step_processor.valid_entities\n",
    "load_conflation(valid_models, database)"
   ]
  },
  {
   "cell_type": "markdown",
   "metadata": {},
   "source": [
    "### Update `network_to_id` Table in Database\n",
    "Build a modified network by skipping over reaches eclipsed by adjacent reaches"
   ]
  },
  {
   "cell_type": "code",
   "execution_count": null,
   "metadata": {},
   "outputs": [],
   "source": [
    "update_network(database)"
   ]
  },
  {
   "cell_type": "markdown",
   "metadata": {},
   "source": [
    "### Get Working Reaches"
   ]
  },
  {
   "cell_type": "code",
   "execution_count": null,
   "metadata": {},
   "outputs": [],
   "source": [
    "reaches = [Reach(*row) for row in database.get_reaches_by_models([model.id for model in valid_models])]\n",
    "outlet_reaches = [reach for reach in reaches if reach.to_id is None]"
   ]
  },
  {
   "cell_type": "markdown",
   "metadata": {},
   "source": [
    "### Run `extract_submodel` step"
   ]
  },
  {
   "cell_type": "code",
   "execution_count": null,
   "metadata": {},
   "outputs": [],
   "source": [
    "submodel_step_processor = GenericReachStepProcessor(collection, reaches, \"extract_submodel\")\n",
    "submodel_step_processor.execute_step(jobclient, database, timeout=10)"
   ]
  },
  {
   "cell_type": "markdown",
   "metadata": {},
   "source": [
    "### Run `create_ras_terrain` step"
   ]
  },
  {
   "cell_type": "code",
   "execution_count": null,
   "metadata": {},
   "outputs": [],
   "source": [
    "terrain_step_processor = GenericReachStepProcessor(\n",
    "    collection, submodel_step_processor.valid_entities, \"create_ras_terrain\"\n",
    ")\n",
    "terrain_step_processor.execute_step(jobclient, database, timeout=10)"
   ]
  },
  {
   "cell_type": "markdown",
   "metadata": {},
   "source": [
    "### Run `create_model_run_normal_depth` step"
   ]
  },
  {
   "cell_type": "code",
   "execution_count": null,
   "metadata": {},
   "outputs": [],
   "source": [
    "create_model_step_processor = GenericReachStepProcessor(\n",
    "    collection, terrain_step_processor.valid_entities, \"create_model_run_normal_depth\"\n",
    ")\n",
    "create_model_step_processor.execute_step(jobclient, database, timeout=15)"
   ]
  },
  {
   "cell_type": "markdown",
   "metadata": {},
   "source": [
    "### Run `run_incremental_normal_depth` step"
   ]
  },
  {
   "cell_type": "code",
   "execution_count": null,
   "metadata": {},
   "outputs": [],
   "source": [
    "nd_step_processor = GenericReachStepProcessor(\n",
    "    collection, create_model_step_processor.valid_entities, \"run_incremental_normal_depth\"\n",
    ")\n",
    "nd_step_processor.execute_step(jobclient, database, timeout=25)"
   ]
  },
  {
   "cell_type": "markdown",
   "metadata": {},
   "source": [
    "### Run normal depth `create_rating_curves_db`step"
   ]
  },
  {
   "cell_type": "code",
   "execution_count": null,
   "metadata": {},
   "outputs": [],
   "source": [
    "nd_rc_step_processor = GenericReachStepProcessor(\n",
    "    collection, nd_step_processor.valid_entities, \"nd_create_rating_curves_db\"\n",
    ")\n",
    "nd_rc_step_processor.execute_step(jobclient, database, timeout=10)"
   ]
  },
  {
   "cell_type": "markdown",
   "metadata": {},
   "source": [
    "### Initial `run_known_wse` and Initial `create_rating_curves_db`"
   ]
  },
  {
   "cell_type": "code",
   "execution_count": null,
   "metadata": {},
   "outputs": [],
   "source": [
    "execute_ikwse_for_network(\n",
    "    outlet_reaches,\n",
    "    collection,\n",
    "    database,\n",
    "    jobclient,\n",
    "    nd_rc_step_processor.valid_entities,\n",
    "    timeout=20,\n",
    ")"
   ]
  },
  {
   "cell_type": "markdown",
   "metadata": {},
   "source": [
    "### Final `run_known_wse`"
   ]
  },
  {
   "cell_type": "code",
   "execution_count": null,
   "metadata": {},
   "outputs": [],
   "source": [
    "non_outlet_valid_reaches = [reach for reach in nd_rc_step_processor.valid_entities if reach.to_id is not None and reach.to_id in [valid_reach.id for valid_reach in nd_rc_step_processor.valid_entities]]\n",
    "kwse_step_processor = KWSEStepProcessor(collection, non_outlet_valid_reaches)\n",
    "kwse_step_processor.execute_step(jobclient, database, timeout=180)"
   ]
  },
  {
   "cell_type": "markdown",
   "metadata": {},
   "source": [
    "### Final `create_rating_curves_db` step"
   ]
  },
  {
   "cell_type": "code",
   "execution_count": null,
   "metadata": {},
   "outputs": [],
   "source": [
    "kwse_rc_step_processor = GenericReachStepProcessor(\n",
    "    collection, kwse_step_processor.valid_entities, \"kwse_create_rating_curves_db\"\n",
    ")\n",
    "kwse_rc_step_processor.execute_step(jobclient, database, timeout=15)"
   ]
  },
  {
   "cell_type": "markdown",
   "metadata": {},
   "source": [
    "### Merge Rating Curves"
   ]
  },
  {
   "cell_type": "code",
   "execution_count": null,
   "metadata": {},
   "outputs": [],
   "source": [
    "load_all_rating_curves(database)"
   ]
  },
  {
   "cell_type": "markdown",
   "metadata": {},
   "source": [
    "### Run `create_fim_lib` Step"
   ]
  },
  {
   "cell_type": "code",
   "execution_count": null,
   "metadata": {},
   "outputs": [],
   "source": [
    "fimlib_step_processor = GenericReachStepProcessor(collection, nd_rc_step_processor.valid_entities, \"create_fim_lib\")\n",
    "fimlib_step_processor.execute_step(jobclient, database, timeout=150)"
   ]
  },
  {
   "cell_type": "markdown",
   "metadata": {},
   "source": [
    "### Create extent library step"
   ]
  },
  {
   "cell_type": "code",
   "execution_count": null,
   "metadata": {},
   "outputs": [],
   "source": [
    "create_extent_lib(collection)"
   ]
  },
  {
   "cell_type": "markdown",
   "metadata": {},
   "source": [
    "### Create Flows2FIM Start Reaches File"
   ]
  },
  {
   "cell_type": "code",
   "execution_count": null,
   "metadata": {},
   "outputs": [],
   "source": [
    "create_f2f_start_file([reach.id for reach in outlet_reaches], collection.f2f_start_file)\n"
   ]
  },
  {
   "cell_type": "code",
   "execution_count": null,
   "metadata": {},
   "outputs": [],
   "source": []
  }
 ],
 "metadata": {
  "kernelspec": {
   "display_name": "Python 3 (ipykernel)",
   "language": "python",
   "name": "python3"
  },
  "language_info": {
   "codemirror_mode": {
    "name": "ipython",
    "version": 3
   },
   "file_extension": ".py",
   "mimetype": "text/x-python",
   "name": "python",
   "nbconvert_exporter": "python",
   "pygments_lexer": "ipython3",
   "version": "3.12.4"
  }
 },
 "nbformat": 4,
 "nbformat_minor": 4
}
