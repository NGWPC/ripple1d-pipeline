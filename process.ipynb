{
    "cells": [
        {
            "cell_type": "markdown",
            "metadata": {},
            "source": [
                "# Batch Process Source HEC-RAS Models\n",
                "Generate FIM Libraries for multiple HEC-RAS Models"
            ]
        },
        {
            "cell_type": "code",
            "execution_count": 1,
            "metadata": {},
            "outputs": [],
            "source": [
                "%load_ext autoreload\n",
                "%autoreload 2\n",
                "\n",
                "from src import *\n",
                "from src.setup import *\n",
                "from src.process import *"
            ]
        },
        {
            "cell_type": "markdown",
            "metadata": {},
            "source": [
                "### `Parameters`"
            ]
        },
        {
            "cell_type": "code",
            "execution_count": null,
            "metadata": {},
            "outputs": [],
            "source": [
                "collection_name = \"\" # Define Collection name - example: \"ble_12100302_Medina\""
            ]
        },
        {
            "cell_type": "markdown",
            "metadata": {},
            "source": [
                "### Instantiate CollectionData, Database, and JobClient objects"
            ]
        },
        {
            "cell_type": "code",
            "execution_count": 2,
            "metadata": {},
            "outputs": [],
            "source": [
                "collection = CollectionData(collection_name)\n",
                "database = Database(collection)\n",
                "jobclient = JobClient(collection)"
            ]
        },
        {
            "cell_type": "markdown",
            "metadata": {},
            "source": [
                "### Get Working Models"
            ]
        },
        {
            "cell_type": "code",
            "execution_count": 3,
            "metadata": {},
            "outputs": [],
            "source": [
                "# Obtain models data from what is currently on disk. \n",
                "model_ids = collection.get_models()"
            ]
        },
        {
            "cell_type": "markdown",
            "metadata": {},
            "source": [
                "### Run `conflate_model`"
            ]
        },
        {
            "cell_type": "code",
            "execution_count": 4,
            "metadata": {},
            "outputs": [],
            "source": [
                "conflate_model_batch = ConflateModelBatchProcessor(collection, model_ids) \n",
                "conflate_model_batch.conflate_model_batch_process(jobclient, database)"
            ]
        },
        {
            "cell_type": "markdown",
            "metadata": {},
            "source": [
                "### Load Conflation Information to Database"
            ]
        },
        {
            "cell_type": "code",
            "execution_count": 5,
            "metadata": {},
            "outputs": [],
            "source": [
                "succeeded_and_unknown_status_models = [\n",
                "    model_id[0]\n",
                "    for model_id in conflate_model_batch.succeeded + conflate_model_batch.unknown\n",
                "]\n",
                "load_conflation(succeeded_and_unknown_status_models, database)"
            ]
        },
        {
            "cell_type": "markdown",
            "metadata": {},
            "source": [
                "### Update `network_to_id` Table in Database\n",
                "Build a modified network by skipping over reaches eclipsed by adjacent reaches"
            ]
        },
        {
            "cell_type": "code",
            "execution_count": 6,
            "metadata": {},
            "outputs": [],
            "source": [
                "update_network(database)"
            ]
        },
        {
            "cell_type": "markdown",
            "metadata": {},
            "source": [
                "### Get Working Reaches"
            ]
        },
        {
            "cell_type": "code",
            "execution_count": 7,
            "metadata": {},
            "outputs": [],
            "source": [
                "reaches = database.get_reaches_by_models(model_ids)\n",
                "reach_data = [(data[0], data[2]) for data in reaches]"
            ]
        },
        {
            "cell_type": "markdown",
            "metadata": {},
            "source": [
                "### Instantiate reach_processor "
            ]
        },
        {
            "cell_type": "code",
            "execution_count": 8,
            "metadata": {},
            "outputs": [],
            "source": [
                "reach_step_processor = ReachStepProcessor(collection, reach_data)"
            ]
        },
        {
            "cell_type": "markdown",
            "metadata": {},
            "source": [
                "### Run `extract_submodel` step"
            ]
        },
        {
            "cell_type": "code",
            "execution_count": 9,
            "metadata": {},
            "outputs": [],
            "source": [
                "reach_step_processor.execute_extract_submodel_process(jobclient, database, timeout=5)"
            ]
        },
        {
            "cell_type": "markdown",
            "metadata": {},
            "source": [
                "### Run `create_ras_terrain` step"
            ]
        },
        {
            "cell_type": "code",
            "execution_count": 10,
            "metadata": {},
            "outputs": [],
            "source": [
                "reach_step_processor.execute_process(jobclient, database, \"create_ras_terrain\", timeout=3)"
            ]
        },
        {
            "cell_type": "markdown",
            "metadata": {},
            "source": [
                "### Run `create_model_run_normal_depth` step"
            ]
        },
        {
            "cell_type": "code",
            "execution_count": 11,
            "metadata": {},
            "outputs": [],
            "source": [
                "reach_step_processor.execute_process(jobclient, database, \"create_model_run_normal_depth\", timeout=10)"
            ]
        },
        {
            "cell_type": "markdown",
            "metadata": {},
            "source": [
                "### Run `run_incremental_normal_depth` step"
            ]
        },
        {
            "cell_type": "code",
            "execution_count": 12,
            "metadata": {},
            "outputs": [],
            "source": [
                "reach_step_processor.execute_process(jobclient, database, \"run_incremental_normal_depth\", timeout=25)"
            ]
        },
        {
            "cell_type": "markdown",
            "metadata": {},
            "source": [
                "### Initial `run_known_wse` and Initial `create_rating_curves_db`"
            ]
        },
        {
            "cell_type": "code",
            "execution_count": 13,
            "metadata": {},
            "outputs": [],
            "source": [
                "outlet_reaches = [data[0] for data in reaches if data[1] is None]\n",
                "execute_ikwse_for_network(\n",
                "    [(reach, None) for reach in outlet_reaches],\n",
                "    collection,\n",
                "    database,\n",
                "    jobclient,\n",
                "    False,\n",
                "    timeout=20,\n",
                ")"
            ]
        },
        {
            "cell_type": "markdown",
            "metadata": {},
            "source": [
                "### Final `run_known_wse`"
            ]
        },
        {
            "cell_type": "code",
            "execution_count": 14,
            "metadata": {},
            "outputs": [],
            "source": [
                "kwse_reach_data = [\n",
                "    (data[0], data[1])\n",
                "    for data in reaches\n",
                "    if data[1] is not None\n",
                "    and data[0]\n",
                "    in reach_step_processor.succesful_and_unknown_reaches\n",
                "]\n",
                "\n",
                "kwse_step_processor = KWSEStepProcessor(collection, kwse_reach_data)\n",
                "\n",
                "kwse_step_processor.execute_kwse_step(jobclient, database, \"run_known_wse\", timeout=180)"
            ]
        },
        {
            "cell_type": "code",
            "execution_count": null,
            "metadata": {},
            "outputs": [],
            "source": [
                "# TODO Refactor below:\n",
                "#  \n",
                "# # Optional if KWSE is not performed\n",
                "# succeded_reaches, failed_reaches, not_accepted_reaches, unknown_status_reaches = execute_step([(reach[0], \"\") for reach in succeded_reaches + unknown_status_reaches], \"create_fim_lib\", db_path, source_models_dir, submodels_dir, library_dir, timeout_minutes=20)\n",
                "# if stop_on_error and (len(failed_reaches) + len(not_accepted_reaches) + len(unknown_status_reaches)) > 0:\n",
                "#     raise Exception(\"One or more reach failed. Stopping Execution. Please address and then run below cells.\")\n",
                "# outlet_reaches = [data[0] for data in reach_data if data[1] is None]"
            ]
        },
        {
            "cell_type": "markdown",
            "metadata": {},
            "source": [
                "### Final `create_rating_curves_db` step"
            ]
        },
        {
            "cell_type": "code",
            "execution_count": 15,
            "metadata": {},
            "outputs": [],
            "source": [
                "reach_step_processor.execute_process(jobclient, database, \"create_rating_curves_db\", timeout=15)"
            ]
        },
        {
            "cell_type": "markdown",
            "metadata": {},
            "source": [
                "### Merge Rating Curves"
            ]
        },
        {
            "cell_type": "code",
            "execution_count": 16,
            "metadata": {},
            "outputs": [],
            "source": [
                "load_all_rating_curves(database)"
            ]
        },
        {
            "cell_type": "markdown",
            "metadata": {},
            "source": [
                "### Run `create_fim_lib` Step"
            ]
        },
        {
            "cell_type": "code",
            "execution_count": 17,
            "metadata": {},
            "outputs": [],
            "source": [
                "reach_step_processor.execute_process(jobclient, database, \"create_fim_lib\", timeout=30)"
            ]
        },
        {
            "cell_type": "markdown",
            "metadata": {},
            "source": [
                "### Create extent library step"
            ]
        },
        {
            "cell_type": "code",
            "execution_count": 18,
            "metadata": {},
            "outputs": [],
            "source": [
                "create_extent_lib(collection)"
            ]
        },
        {
            "cell_type": "markdown",
            "metadata": {},
            "source": [
                "### Create Flows2FIM Start Reaches File"
            ]
        },
        {
            "cell_type": "code",
            "execution_count": 19,
            "metadata": {},
            "outputs": [],
            "source": [
                "outlet_reaches = [data[0] for data in reaches if data[1] is None]\n",
                "create_f2f_start_file(outlet_reaches, collection.f2f_start_file)"
            ]
        },
        {
            "cell_type": "code",
            "execution_count": 16,
            "metadata": {},
            "outputs": [],
            "source": [
                "# !jupyter nbconvert --to html \"process copy 2.ipynb\""
            ]
        }
    ],
    "metadata": {
        "kernelspec": {
            "display_name": "Python 3 (ipykernel)",
            "language": "python",
            "name": "python3"
        },
        "language_info": {
            "codemirror_mode": {
                "name": "ipython",
                "version": 3
            },
            "file_extension": ".py",
            "mimetype": "text/x-python",
            "name": "python",
            "nbconvert_exporter": "python",
            "pygments_lexer": "ipython3",
            "version": "3.12.4"
        }
    },
    "nbformat": 4,
    "nbformat_minor": 4
}
