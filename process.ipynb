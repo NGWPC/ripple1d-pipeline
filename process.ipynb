{
 "cells": [
  {
   "cell_type": "markdown",
   "metadata": {},
   "source": [
    "# Batch Process Source HEC-RAS Models\n",
    "Generate FIM Libraries for multiple HEC-RAS Models"
   ]
  },
  {
   "cell_type": "code",
   "execution_count": null,
   "metadata": {},
   "outputs": [],
   "source": [
    "%load_ext autoreload\n",
    "%autoreload 2\n",
    "\n",
    "from scripts.processing import *"
   ]
  },
  {
   "cell_type": "markdown",
   "metadata": {},
   "source": [
    "### `Parameters`"
   ]
  },
  {
   "cell_type": "code",
   "execution_count": null,
   "metadata": {},
   "outputs": [],
   "source": [
    "# stac_endpoint = \"https://stac2.dewberryanalytics.com\"  # STAC API endpoint\n",
    "# stac_collection = \"12030106_EastForkTrinity\"  # Collection name\n",
    "\n",
    "source_models_dir = r\"D:\\Users\\abdul.siddiqui\\workbench\\projects\\test_local\\source_models\"\n",
    "submodels_dir = r\"D:\\Users\\abdul.siddiqui\\workbench\\projects\\test_local\\submodels\"\n",
    "library_dir = r\"D:\\Users\\abdul.siddiqui\\workbench\\projects\\test_local\\library\"\n",
    "\n",
    "db_path = r\"D:\\Users\\abdul.siddiqui\\workbench\\projects\\test_local\\library.db\"\n",
    "nwm_flowlines_path = r\"D:\\Users\\abdul.siddiqui\\workbench\\projects\\ripple_1d_outputs\\nwm_flowlines.parquet\""
   ]
  },
  {
   "cell_type": "markdown",
   "metadata": {},
   "source": [
    "### Get Working Models"
   ]
  },
  {
   "cell_type": "code",
   "execution_count": null,
   "metadata": {},
   "outputs": [],
   "source": [
    "# models = get_models(stac_endpoint, stac_collection)\n",
    "# or get based on some geographic unit\n",
    "models = [\"Baxter\"]"
   ]
  },
  {
   "cell_type": "markdown",
   "metadata": {},
   "source": [
    "### Load Conflation Information to Database"
   ]
  },
  {
   "cell_type": "code",
   "execution_count": null,
   "metadata": {},
   "outputs": [],
   "source": [
    "load_conflation(models, source_models_dir, db_path)"
   ]
  },
  {
   "cell_type": "markdown",
   "metadata": {},
   "source": [
    "### Update `network_to_id` Table in Database\n",
    "Build a modified network by skipping over reaches eclipsed by adjacent reaches"
   ]
  },
  {
   "cell_type": "code",
   "execution_count": null,
   "metadata": {},
   "outputs": [],
   "source": [
    "%%time\n",
    "update_network(db_path)"
   ]
  },
  {
   "cell_type": "markdown",
   "metadata": {},
   "source": [
    "### Get Working Reaches"
   ]
  },
  {
   "cell_type": "code",
   "execution_count": null,
   "metadata": {},
   "outputs": [],
   "source": [
    "reaches = get_reaches_by_models(db_path, models)"
   ]
  },
  {
   "cell_type": "markdown",
   "metadata": {},
   "source": [
    "### Run `extract_submodel`"
   ]
  },
  {
   "cell_type": "code",
   "execution_count": null,
   "metadata": {},
   "outputs": [],
   "source": [
    "succeded_reaches, failed_reaches, not_accepted_reaches = execute_step(reaches, \"extract_submodel\", db_path, source_models_dir, submodels_dir)\n",
    "if len(failed_reaches) + len(not_accepted_reaches) > 0:\n",
    "    raise Exception(\"One or more reach failed. Stopping Execution. Please address and then run below cells.\")"
   ]
  },
  {
   "cell_type": "markdown",
   "metadata": {},
   "source": [
    "### Run `create_ras_terrain`"
   ]
  },
  {
   "cell_type": "code",
   "execution_count": null,
   "metadata": {},
   "outputs": [],
   "source": [
    "succeded_reaches, failed_reaches, not_accepted_reaches = execute_step(reaches, \"create_ras_terrain\", db_path, source_models_dir, submodels_dir)\n",
    "if len(failed_reaches) + len(not_accepted_reaches) > 0:\n",
    "    raise Exception(\"One or more reach failed. Stopping Execution. Please address and then run below cells.\")"
   ]
  },
  {
   "cell_type": "markdown",
   "metadata": {},
   "source": [
    "### Run `create_model_run_normal_depth`"
   ]
  },
  {
   "cell_type": "code",
   "execution_count": null,
   "metadata": {},
   "outputs": [],
   "source": [
    "succeded_reaches, failed_reaches, not_accepted_reaches = execute_step(reaches, \"create_model_run_normal_depth\", db_path, source_models_dir, submodels_dir)\n",
    "if len(failed_reaches) + len(not_accepted_reaches) > 0:\n",
    "    raise Exception(\"One or more reach failed. Stopping Execution. Please address and then run below cells.\")"
   ]
  },
  {
   "cell_type": "markdown",
   "metadata": {},
   "source": [
    "### Run `run_incremental_normal_depth`"
   ]
  },
  {
   "cell_type": "code",
   "execution_count": null,
   "metadata": {},
   "outputs": [],
   "source": [
    "succeded_reaches, failed_reaches, not_accepted_reaches = execute_step(reaches, \"run_incremental_normal_depth\", db_path, source_models_dir, submodels_dir)\n",
    "if len(failed_reaches) + len(not_accepted_reaches) > 0:\n",
    "    raise Exception(\"One or more reach failed. Stopping Execution. Please address and then run below cells.\")"
   ]
  },
  {
   "cell_type": "markdown",
   "metadata": {},
   "source": [
    "### Run `run_known_wse` for Network"
   ]
  },
  {
   "cell_type": "code",
   "execution_count": null,
   "metadata": {},
   "outputs": [],
   "source": [
    "execute_kwse_for_network([(reach[0], None) for reach in reaches if reach[1] is None], submodels_dir, db_path, False)"
   ]
  },
  {
   "cell_type": "markdown",
   "metadata": {},
   "source": [
    "## Merge Libraries and Rating Curves"
   ]
  },
  {
   "cell_type": "code",
   "execution_count": null,
   "metadata": {},
   "outputs": [],
   "source": [
    "move_fims_to_library(submodels_dir, library_dir)"
   ]
  },
  {
   "cell_type": "code",
   "execution_count": null,
   "metadata": {},
   "outputs": [],
   "source": [
    "load_all_rating_curves(library_dir, db_path)"
   ]
  }
 ],
 "metadata": {
  "kernelspec": {
   "display_name": "Python 3 (ipykernel)",
   "language": "python",
   "name": "python3"
  },
  "language_info": {
   "codemirror_mode": {
    "name": "ipython",
    "version": 3
   },
   "file_extension": ".py",
   "mimetype": "text/x-python",
   "name": "python",
   "nbconvert_exporter": "python",
   "pygments_lexer": "ipython3",
   "version": "3.12.4"
  }
 },
 "nbformat": 4,
 "nbformat_minor": 4
}
