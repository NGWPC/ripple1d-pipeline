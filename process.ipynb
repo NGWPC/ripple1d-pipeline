{
 "cells": [
  {
   "cell_type": "markdown",
   "metadata": {},
   "source": [
    "# Batch Process Source HEC-RAS Models\n",
    "Generate FIM Libraries for multiple HEC-RAS Models"
   ]
  },
  {
   "cell_type": "code",
   "execution_count": 1,
   "metadata": {},
   "outputs": [],
   "source": [
    "%load_ext autoreload\n",
    "%autoreload 2\n",
    "\n",
    "from scripts.processing import *"
   ]
  },
  {
   "cell_type": "markdown",
   "metadata": {},
   "source": [
    "### `Parameters`"
   ]
  },
  {
   "cell_type": "code",
   "execution_count": 2,
   "metadata": {
    "tags": [
     "parameters"
    ]
   },
   "outputs": [],
   "source": [
    "stac_endpoint = \"https://stac2.dewberryanalytics.com\"  # STAC API endpoint\n",
    "stac_collection = \"ebfe-12040101_WestForkSanJacinto\"  # Collection name\n",
    "\n",
    "source_models_dir = r\"Z:\\collections\\ebfe-12040101_WestForkSanJacinto\\source_models\"\n",
    "submodels_dir = r\"Z:\\collections\\ebfe-12040101_WestForkSanJacinto\\submodels\"\n",
    "library_dir = r\"Z:\\collections\\ebfe-12040101_WestForkSanJacinto\\library\"\n",
    "db_path = r\"Z:\\collections\\ebfe-12040101_WestForkSanJacinto\\ripple.db\""
   ]
  },
  {
   "cell_type": "markdown",
   "metadata": {},
   "source": [
    "### Get Working Models"
   ]
  },
  {
   "cell_type": "code",
   "execution_count": 3,
   "metadata": {},
   "outputs": [
    {
     "name": "stdout",
     "output_type": "stream",
     "text": [
      "Total 439 models in this collection\n",
      "Total 262 filtered models.\n"
     ]
    }
   ],
   "source": [
    "models_files = get_models_from_stac(stac_endpoint, stac_collection)\n",
    "# or get based on some geographic unit\n",
    "# models = [\"Baxter\"]\n",
    "# download_model_files(models_files, source_models_dir)\n",
    "model_keys = list(models_files.keys())"
   ]
  },
  {
   "cell_type": "markdown",
   "metadata": {},
   "source": [
    "### Load Conflation Information to Database"
   ]
  },
  {
   "cell_type": "code",
   "execution_count": 4,
   "metadata": {},
   "outputs": [
    {
     "name": "stdout",
     "output_type": "stream",
     "text": [
      "Conflation loaded to Z:\\collections\\ebfe-12040101_WestForkSanJacinto\\ripple.db from .conflation.json files\n"
     ]
    }
   ],
   "source": [
    "load_conflation(model_keys, source_models_dir, db_path)"
   ]
  },
  {
   "cell_type": "markdown",
   "metadata": {},
   "source": [
    "### Update `network_to_id` Table in Database\n",
    "Build a modified network by skipping over reaches eclipsed by adjacent reaches"
   ]
  },
  {
   "cell_type": "code",
   "execution_count": 5,
   "metadata": {},
   "outputs": [
    {
     "name": "stdout",
     "output_type": "stream",
     "text": [
      "Updated 454 reaches successfully.\n",
      "CPU times: total: 1.03 s\n",
      "Wall time: 19.8 s\n"
     ]
    }
   ],
   "source": [
    "update_network(db_path)"
   ]
  },
  {
   "cell_type": "markdown",
   "metadata": {},
   "source": [
    "### Get Working Reaches"
   ]
  },
  {
   "cell_type": "code",
   "execution_count": 7,
   "metadata": {},
   "outputs": [
    {
     "name": "stdout",
     "output_type": "stream",
     "text": [
      "dict_keys(['WHITE OAK CREEK', 'WFSJR 097', 'WFSJR 094', 'WFSJR 092', 'WFSJR 090', 'WFSJR 089', 'WFSJR 087', 'WFSJR 086', 'WFSJR 085', 'WFSJR 084', 'WFSJR 082', 'WFSJR 080', 'WFSJR 078', 'WFSJR 076', 'WFSJR 075', 'WFSJR 071', 'WFSJR 068', 'WFSJR 065', 'WFSJR 064', 'WFSJR 058', 'WFSJR 057', 'WFSJR 055', 'WFSJR 053', 'WFSJR 050', 'WFSJR 048', 'WFSJR 046', 'WFSJR 045', 'WFSJR 042', 'WFSJR 041', 'WFSJR 039', 'WFSJR 038', 'WFSJR 034', 'WFSJR 033', 'WFSJR 030', 'WFSJR 026', 'WFSJR 024', 'WFSJR 023', 'WFSJR 022', 'WFSJR 019', 'WFSJR 018', 'WFSJR 017', 'WFSJR 016', 'WFSJR 012', 'WFSJR 009', 'WFSJR 007', 'WFSJR 006', 'WFSJR 004', 'WFSJR 003', 'WFSJR 002', 'WFSJR 001', 'WEST SANDY CREEK', 'WEST ROCKY CREEK', 'WEST ROCKY BRANCH', 'WEST GUM BRANCH', 'WEST CEDAR CREEK', 'WELCH BRANCH', 'TRIBUTARY 6', 'TRIBUTARY 5', 'SCOTT BRANCH 01', 'ROCKY CREEK', 'ROBINSON CREEK', 'ROBINSON BRANCH', 'POLECAT BRANCH', 'NEELY SPRING BRANCH', 'MOCK BRANCH', 'MILL BRANCH', 'MCGARY CREEK', 'LUCAS BRANCH', 'LEE BRANCH', 'GUM BRANCH', 'ERA BRANCH', 'CLEAR BRANCH', 'CASIDY BRANCH', 'BLACK BRANCH', 'WHITE OAK CREEK NORTH', 'WF OF SAN JAC RIVER TRIB NO 1_1', 'WF OF SAN JAC RIVER TRIB NO 1', 'WEST FORK W BR ALLIGATOR CRK', 'WEST FORK OF WHITE OAK CREEK N', 'WEST BRANCH ALLIGATOR CREEK', 'WEIRS CREEK', 'STEWART CREEK NORTH', 'STEWART CREEK NORTH TRIB NO 2', 'SMITH BRANCH', 'SAND CREEK', 'SAND BRANCH', 'SAND BRANCH NO 3', 'SAND BRANCH NO 2', 'PRAIRIE BRANCH', 'POLE CREEK', 'PLUM CREEK', 'MCDONALD CREEK', 'MARTIN CREEK', 'MARTIN CREEK TRIBUTARY NO 1', 'MAPLE BRANCH', 'LIVE BRANCH', 'LITTLE LAKE CREEK', 'LITTLE LAKE CREEK TRIB NO 3', 'LITTLE CHINQUAPIN CREEK', 'LEWIS CREEK', 'KELLY BRANCH', 'HOSTETTER CREEK', 'GREEN BRANCH', 'EGYPT CREEK', 'EAST SANDY CREEK', 'Conroe Lake 117', 'Conroe Lake 110', 'Conroe Lake 107', 'Conroe Lake 104', 'Conroe Lake 102', 'Conroe Lake 099', 'Conroe Lake 098', 'Conroe Lake 092', 'Conroe Lake 091', 'Conroe Lake 088', 'Conroe Lake 086', 'Conroe Lake 085', 'Conroe Lake 084', 'Conroe Lake 082', 'Conroe Lake 077', 'Conroe Lake 073', 'Conroe Lake 072', 'Conroe Lake 071', 'Conroe Lake 069', 'Conroe Lake 068', 'Conroe Lake 067', 'Conroe Lake 066', 'Conroe Lake 065', 'Conroe Lake 063', 'Conroe Lake 061', 'Conroe Lake 059', 'Conroe Lake 053', 'Conroe Lake 050', 'Conroe Lake 049', 'Conroe Lake 046', 'Conroe Lake 040', 'Conroe Lake 038', 'Conroe Lake 026', 'Conroe Lake 011', 'CHAMBERS CREEK', 'CARWILE CREEK', 'CANEY CREEK NORTH TRIB NO 7', 'CANEY CREEK NORTH TRIB NO 6', 'CANEY CREEK NORTH TRIB NO 3', 'CANEY CREEK NORTH TRIB NO 2', 'CANEY CREEK NORTH TRIB NO 1', 'BROWN BRANCH', 'BIG CHINQUAPIN CREEK', 'BELL CREEK', 'BAY BRANCH', 'BAY BRANCH TRIBUTARY NO 1', 'BASE CREEK', 'ATKINS CREEK', 'ANTHONY BRANCH', 'ALLIGATOR BRANCH', 'ROGERS GULLY', 'JORDAN GULLY', 'DUNKS DITCH', 'BENS BRANCH', 'WEST FORK OF CRYSTAL CREEK', 'TRADE CTR DITCH_COLLEGE PK DITCH', 'STEWARTS CREEK', 'SILVERDALE CREEK', 'SANDY BRANCH', 'POSSUM BRANCH', 'LITTLE CANEY CREEK', 'HARPERS HORSEPEN BRANCH', 'GRAND LAKE CREEK', 'Crystal Creek 053', 'Crystal Creek 050', 'Crystal Creek 046', 'Crystal Creek 040', 'Crystal Creek 013', 'Crystal Creek 010', 'Crystal Creek 002', 'CRYSTAL CREEK', 'CRYSTAL CREEK TRIBUTARY NO 8', 'CRYSTAL CREEK TRIBUTARY NO 7', 'CRYSTAL CREEK TRIBUTARY NO 6', 'CRYSTAL CREEK TRIBUTARY NO 4', 'CRYSTAL CREEK TRIBUTARY NO 3', 'CRYSTAL CREEK TRIBUTARY NO 2', 'CRYSTAL CREEK TRIBUTARY NO 1', 'CARTERS SLOUGH', 'SPRING BRANCH NO 2', 'MOUND CREEK TRIBUTARY NO 5', 'MOUND CREEK TRIBUTARY NO 1', 'LANDRUM CREEK', 'LAKE CREEK', 'LAKE CREEK TRIBUTARY NO 7', 'LAKE CREEK TRIBUTARY NO 4', 'LAKE CREEK TRIBUTARY NO 3', 'LAKE CREEK TRIBUTARY NO 29', 'LAKE CREEK TRIBUTARY NO 28', 'LAKE CREEK TRIBUTARY NO 22', 'LAKE CREEK TRIBUTARY NO 21', 'LAKE CREEK TRIBUTARY NO 2', 'LAKE CREEK TRIBUTARY NO 18', 'LAKE CREEK TRIBUTARY NO 16', 'LAKE CREEK TRIBUTARY NO 13 A', 'LAKE CREEK TRIBUTARY NO 11 2', 'LAKE CREEK TRIBUTARY NO 10', 'LAKE CREEK TRIBUTARY NO 10 1', 'KIDHAW BRANCH', 'KIDHAW BRANCH TRIBUTARY NO 2', 'KIDHAW BRANCH TRIBUTARY NO 1', 'JOHNS CREEK', 'HAYNIE CREEK', 'GETER CREEK', 'GARRETTS CREEK', 'FLOYDS CREEK', 'FLAGTAIL CREEK', 'DEER LAKE BRANCH', 'CCLC 126', 'CCLC 125', 'CCLC 124', 'CCLC 120', 'CCLC 118', 'CCLC 114', 'CCLC 112', 'CCLC 110', 'CCLC 107', 'CCLC 106', 'CCLC 105', 'CCLC 101', 'CCLC 100', 'CCLC 099', 'CCLC 098', 'CCLC 097', 'CCLC 096', 'CCLC 094', 'CCLC 093', 'CCLC 092', 'CCLC 091', 'CCLC 089', 'CCLC 088', 'CCLC 087', 'CCLC 086', 'CCLC 084', 'CCLC 080', 'CCLC 078', 'CCLC 076', 'CCLC 073', 'CCLC 072', 'CCLC 071', 'CCLC 070', 'CCLC 069', 'CCLC 068', 'CCLC 066', 'CCLC 058', 'CCLC 042', 'CCLC 037', 'CCLC 036', 'CCLC 030', 'CCLC 028', 'CCLC 026', 'CCLC 024', 'CCLC 022', 'CCLC 015', 'CCLC 011', 'CCLC 010', 'CANEY CREEK'])\n"
     ]
    },
    {
     "ename": "ProgrammingError",
     "evalue": "parameters are of unsupported type",
     "output_type": "error",
     "traceback": [
      "\u001b[1;31m---------------------------------------------------------------------------\u001b[0m",
      "\u001b[1;31mProgrammingError\u001b[0m                          Traceback (most recent call last)",
      "Cell \u001b[1;32mIn[7], line 2\u001b[0m\n\u001b[0;32m      1\u001b[0m \u001b[38;5;28mprint\u001b[39m(model_keys)\n\u001b[1;32m----> 2\u001b[0m reaches \u001b[38;5;241m=\u001b[39m \u001b[43mget_reaches_by_models\u001b[49m\u001b[43m(\u001b[49m\u001b[43mdb_path\u001b[49m\u001b[43m,\u001b[49m\u001b[43m \u001b[49m\u001b[43mmodel_keys\u001b[49m\u001b[43m)\u001b[49m\n",
      "File \u001b[1;32md:\\Users\\abdul.siddiqui\\workbench\\repos\\ripple1d-pipeline\\scripts\\processing\\get_reaches_by_models.py:19\u001b[0m, in \u001b[0;36mget_reaches_by_models\u001b[1;34m(db_path, model_keys)\u001b[0m\n\u001b[0;32m     11\u001b[0m cursor \u001b[38;5;241m=\u001b[39m conn\u001b[38;5;241m.\u001b[39mcursor()\n\u001b[0;32m     13\u001b[0m query \u001b[38;5;241m=\u001b[39m \u001b[38;5;124mf\u001b[39m\u001b[38;5;124m\"\"\"\u001b[39m\n\u001b[0;32m     14\u001b[0m \u001b[38;5;124m    SELECT n.reach_id, n.updated_to_id, p.model_key\u001b[39m\n\u001b[0;32m     15\u001b[0m \u001b[38;5;124m    FROM network n\u001b[39m\n\u001b[0;32m     16\u001b[0m \u001b[38;5;124m    JOIN processing p ON n.reach_id = p.reach_id\u001b[39m\n\u001b[0;32m     17\u001b[0m \u001b[38;5;124m    WHERE p.eclipsed IS FALSE AND p.model_key IN (\u001b[39m\u001b[38;5;132;01m{\u001b[39;00m\u001b[38;5;124m'\u001b[39m\u001b[38;5;124m,\u001b[39m\u001b[38;5;124m'\u001b[39m\u001b[38;5;241m.\u001b[39mjoin([\u001b[38;5;124m'\u001b[39m\u001b[38;5;124m?\u001b[39m\u001b[38;5;124m'\u001b[39m]\u001b[38;5;250m \u001b[39m\u001b[38;5;241m*\u001b[39m\u001b[38;5;250m \u001b[39m\u001b[38;5;28mlen\u001b[39m(model_keys))\u001b[38;5;132;01m}\u001b[39;00m\u001b[38;5;124m)\u001b[39m\n\u001b[0;32m     18\u001b[0m \u001b[38;5;124m\u001b[39m\u001b[38;5;124m\"\"\"\u001b[39m\n\u001b[1;32m---> 19\u001b[0m \u001b[43mcursor\u001b[49m\u001b[38;5;241;43m.\u001b[39;49m\u001b[43mexecute\u001b[49m\u001b[43m(\u001b[49m\u001b[43mquery\u001b[49m\u001b[43m,\u001b[49m\u001b[43m \u001b[49m\u001b[43mmodel_keys\u001b[49m\u001b[43m)\u001b[49m\n\u001b[0;32m     20\u001b[0m data \u001b[38;5;241m=\u001b[39m cursor\u001b[38;5;241m.\u001b[39mfetchall()\n\u001b[0;32m     21\u001b[0m conn\u001b[38;5;241m.\u001b[39mclose()\n",
      "\u001b[1;31mProgrammingError\u001b[0m: parameters are of unsupported type"
     ]
    }
   ],
   "source": [
    "print(model_keys)\n",
    "reaches = get_reaches_by_models(db_path, model_keys)"
   ]
  },
  {
   "cell_type": "markdown",
   "metadata": {},
   "source": [
    "### Run `extract_submodel`"
   ]
  },
  {
   "cell_type": "code",
   "execution_count": null,
   "metadata": {},
   "outputs": [],
   "source": [
    "succeded_reaches, failed_reaches, not_accepted_reaches = execute_step(reaches, \"extract_submodel\", db_path, source_models_dir, submodels_dir)\n",
    "if len(failed_reaches) + len(not_accepted_reaches) > 0:\n",
    "    raise Exception(\"One or more reach failed. Stopping Execution. Please address and then run below cells.\")"
   ]
  },
  {
   "cell_type": "markdown",
   "metadata": {},
   "source": [
    "### Run `create_ras_terrain`"
   ]
  },
  {
   "cell_type": "code",
   "execution_count": null,
   "metadata": {},
   "outputs": [],
   "source": [
    "succeded_reaches, failed_reaches, not_accepted_reaches = execute_step(reaches, \"create_ras_terrain\", db_path, source_models_dir, submodels_dir)\n",
    "if len(failed_reaches) + len(not_accepted_reaches) > 0:\n",
    "    raise Exception(\"One or more reach failed. Stopping Execution. Please address and then run below cells.\")"
   ]
  },
  {
   "cell_type": "markdown",
   "metadata": {},
   "source": [
    "### Run `create_model_run_normal_depth`"
   ]
  },
  {
   "cell_type": "code",
   "execution_count": null,
   "metadata": {},
   "outputs": [],
   "source": [
    "succeded_reaches, failed_reaches, not_accepted_reaches = execute_step(reaches, \"create_model_run_normal_depth\", db_path, source_models_dir, submodels_dir)\n",
    "if len(failed_reaches) + len(not_accepted_reaches) > 0:\n",
    "    raise Exception(\"One or more reach failed. Stopping Execution. Please address and then run below cells.\")"
   ]
  },
  {
   "cell_type": "markdown",
   "metadata": {},
   "source": [
    "### Run `run_incremental_normal_depth`"
   ]
  },
  {
   "cell_type": "code",
   "execution_count": null,
   "metadata": {},
   "outputs": [],
   "source": [
    "succeded_reaches, failed_reaches, not_accepted_reaches = execute_step(reaches, \"run_incremental_normal_depth\", db_path, source_models_dir, submodels_dir)\n",
    "if len(failed_reaches) + len(not_accepted_reaches) > 0:\n",
    "    raise Exception(\"One or more reach failed. Stopping Execution. Please address and then run below cells.\")"
   ]
  },
  {
   "cell_type": "markdown",
   "metadata": {},
   "source": [
    "### Run `run_known_wse` for Network"
   ]
  },
  {
   "cell_type": "code",
   "execution_count": null,
   "metadata": {},
   "outputs": [],
   "source": [
    "execute_kwse_for_network([(reach[0], None) for reach in reaches if reach[1] is None], submodels_dir, db_path, False)"
   ]
  },
  {
   "cell_type": "markdown",
   "metadata": {},
   "source": [
    "## Merge Libraries and Rating Curves"
   ]
  },
  {
   "cell_type": "code",
   "execution_count": null,
   "metadata": {},
   "outputs": [],
   "source": [
    "move_fims_to_library(submodels_dir, library_dir)"
   ]
  },
  {
   "cell_type": "code",
   "execution_count": null,
   "metadata": {},
   "outputs": [],
   "source": [
    "load_all_rating_curves(library_dir, db_path)"
   ]
  }
 ],
 "metadata": {
  "kernelspec": {
   "display_name": "Python 3 (ipykernel)",
   "language": "python",
   "name": "python3"
  },
  "language_info": {
   "codemirror_mode": {
    "name": "ipython",
    "version": 3
   },
   "file_extension": ".py",
   "mimetype": "text/x-python",
   "name": "python",
   "nbconvert_exporter": "python",
   "pygments_lexer": "ipython3",
   "version": "3.12.4"
  }
 },
 "nbformat": 4,
 "nbformat_minor": 4
}
