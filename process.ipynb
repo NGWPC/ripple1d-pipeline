{
 "cells": [
  {
   "cell_type": "markdown",
   "metadata": {},
   "source": [
    "# Batch Process Source HEC-RAS Models\n",
    "Generate FIM Libraries for multiple HEC-RAS Models"
   ]
  },
  {
   "cell_type": "code",
   "execution_count": 1,
   "metadata": {},
   "outputs": [],
   "source": [
    "%load_ext autoreload\n",
    "%autoreload 2\n",
    "\n",
    "from scripts.processing import *\n",
    "from scripts.setup import get_models_from_stac\n",
    "import os"
   ]
  },
  {
   "cell_type": "markdown",
   "metadata": {},
   "source": [
    "### `Parameters`"
   ]
  },
  {
   "cell_type": "code",
   "execution_count": 2,
   "metadata": {
    "tags": [
     "parameters"
    ]
   },
   "outputs": [],
   "source": [
    "stac_endpoint = \"https://stac2.dewberryanalytics.com\"  # STAC API endpoint\n",
    "stac_collection = \"ebfe-12040101_WestForkSanJacinto\"  # Collection name\n",
    "\n",
    "root_dir = r\"Z:\\collections\\ebfe-12040101_WestForkSanJacinto\"\n",
    "\n",
    "stop_on_error = False\n",
    "\n",
    "db_path = os.path.join(root_dir, \"ripple.gpkg\")\n",
    "source_models_dir = os.path.join(root_dir, \"source_models\")\n",
    "submodels_dir = os.path.join(root_dir, \"submodels\")\n",
    "library_dir = os.path.join(root_dir, \"library\")"
   ]
  },
  {
   "cell_type": "markdown",
   "metadata": {},
   "source": [
    "### Get Working Models"
   ]
  },
  {
   "cell_type": "code",
   "execution_count": null,
   "metadata": {},
   "outputs": [],
   "source": [
    "models_files = get_models_from_stac(stac_endpoint, stac_collection)\n",
    "# or get based on some geographic unit\n",
    "model_keys = list(models_files.keys())\n",
    "model_keys = [key for key in model_keys if models_files[key][\"conflation\"]]\n",
    "print(\"Models with conflation\", len(model_keys))\n",
    "\n",
    "# model_keys = [\"Baxter\"]"
   ]
  },
  {
   "cell_type": "markdown",
   "metadata": {},
   "source": [
    "### Load Conflation Information to Database"
   ]
  },
  {
   "cell_type": "code",
   "execution_count": null,
   "metadata": {},
   "outputs": [],
   "source": [
    "load_conflation(model_keys, source_models_dir, db_path)"
   ]
  },
  {
   "cell_type": "markdown",
   "metadata": {},
   "source": [
    "### Update `network_to_id` Table in Database\n",
    "Build a modified network by skipping over reaches eclipsed by adjacent reaches"
   ]
  },
  {
   "cell_type": "code",
   "execution_count": null,
   "metadata": {},
   "outputs": [],
   "source": [
    "update_network(db_path)"
   ]
  },
  {
   "cell_type": "markdown",
   "metadata": {},
   "source": [
    "### Get Working Reaches"
   ]
  },
  {
   "cell_type": "code",
   "execution_count": null,
   "metadata": {},
   "outputs": [],
   "source": [
    "reaches = get_reaches_by_models(db_path, model_keys)"
   ]
  },
  {
   "cell_type": "markdown",
   "metadata": {},
   "source": [
    "### Run `extract_submodel`"
   ]
  },
  {
   "cell_type": "code",
   "execution_count": null,
   "metadata": {},
   "outputs": [],
   "source": [
    "succeded_reaches, failed_reaches, not_accepted_reaches = execute_step(reaches, \"extract_submodel\", db_path, source_models_dir, submodels_dir)\n",
    "if stop_on_error and (len(failed_reaches) + len(not_accepted_reaches)) > 0:\n",
    "    raise Exception(\"One or more reach failed. Stopping Execution. Please address and then run below cells.\")"
   ]
  },
  {
   "cell_type": "markdown",
   "metadata": {},
   "source": [
    "### Run `create_ras_terrain`"
   ]
  },
  {
   "cell_type": "code",
   "execution_count": null,
   "metadata": {},
   "outputs": [],
   "source": [
    "succeded_reaches, failed_reaches, not_accepted_reaches = execute_step(succeded_reaches, \"create_ras_terrain\", db_path, source_models_dir, submodels_dir)\n",
    "if stop_on_error and (len(failed_reaches) + len(not_accepted_reaches)) > 0:\n",
    "    raise Exception(\"One or more reach failed. Stopping Execution. Please address and then run below cells.\")"
   ]
  },
  {
   "cell_type": "markdown",
   "metadata": {},
   "source": [
    "### Run `create_model_run_normal_depth`"
   ]
  },
  {
   "cell_type": "code",
   "execution_count": null,
   "metadata": {},
   "outputs": [],
   "source": [
    "succeded_reaches, failed_reaches, not_accepted_reaches = execute_step(succeded_reaches, \"create_model_run_normal_depth\", db_path, source_models_dir, submodels_dir)\n",
    "if stop_on_error and (len(failed_reaches) + len(not_accepted_reaches)) > 0:\n",
    "    raise Exception(\"One or more reach failed. Stopping Execution. Please address and then run below cells.\")"
   ]
  },
  {
   "cell_type": "markdown",
   "metadata": {},
   "source": [
    "### Run `run_incremental_normal_depth`"
   ]
  },
  {
   "cell_type": "code",
   "execution_count": null,
   "metadata": {},
   "outputs": [],
   "source": [
    "succeded_reaches, failed_reaches, not_accepted_reaches = execute_step(succeded_reaches, \"run_incremental_normal_depth\", db_path, source_models_dir, submodels_dir)\n",
    "if stop_on_error and (len(failed_reaches) + len(not_accepted_reaches)) > 0:\n",
    "    raise Exception(\"One or more reach failed. Stopping Execution. Please address and then run below cells.\")"
   ]
  },
  {
   "cell_type": "markdown",
   "metadata": {},
   "source": [
    "### Run `run_known_wse` for Network"
   ]
  },
  {
   "cell_type": "code",
   "execution_count": null,
   "metadata": {},
   "outputs": [],
   "source": [
    "execute_kwse_for_network([(reach[0], None) for reach in reaches if reach[1] is None], submodels_dir, db_path, False, library_dir, False)"
   ]
  },
  {
   "cell_type": "markdown",
   "metadata": {},
   "source": [
    "## Merge Rating Curves"
   ]
  },
  {
   "cell_type": "code",
   "execution_count": null,
   "metadata": {},
   "outputs": [],
   "source": [
    "load_all_rating_curves(library_dir, db_path)"
   ]
  },
  {
   "cell_type": "code",
   "execution_count": null,
   "metadata": {},
   "outputs": [],
   "source": [
    "# !jupyter nbconvert --to html \"process copy 2.ipynb\"\n"
   ]
  }
 ],
 "metadata": {
  "kernelspec": {
   "display_name": "Python 3 (ipykernel)",
   "language": "python",
   "name": "python3"
  },
  "language_info": {
   "codemirror_mode": {
    "name": "ipython",
    "version": 3
   },
   "file_extension": ".py",
   "mimetype": "text/x-python",
   "name": "python",
   "nbconvert_exporter": "python",
   "pygments_lexer": "ipython3",
   "version": "3.12.4"
  }
 },
 "nbformat": 4,
 "nbformat_minor": 4
}
