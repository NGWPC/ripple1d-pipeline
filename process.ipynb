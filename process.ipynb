{
 "cells": [
  {
   "cell_type": "markdown",
   "metadata": {},
   "source": [
    "# Process Source HEC-RAS Models\n",
    "Generate FIM Libraries for multiple HEC-RAS Models"
   ]
  },
  {
   "cell_type": "code",
   "execution_count": null,
   "metadata": {},
   "outputs": [],
   "source": [
    "%load_ext autoreload\n",
    "%autoreload 2\n",
    "\n",
    "from src import *\n",
    "from src.setup import *\n",
    "from src.process import *"
   ]
  },
  {
   "cell_type": "markdown",
   "metadata": {},
   "source": [
    "### `Parameters`"
   ]
  },
  {
   "cell_type": "code",
   "execution_count": null,
   "metadata": {},
   "outputs": [],
   "source": [
    "collection_name = \"\" # Define Collection name - example: \"ble_12100302_Medina\"\n",
    "# collection_name = \"Baxter_0_7_0\""
   ]
  },
  {
   "cell_type": "markdown",
   "metadata": {},
   "source": [
    "### Instantiate CollectionData, Database, and JobClient objects"
   ]
  },
  {
   "cell_type": "code",
   "execution_count": null,
   "metadata": {},
   "outputs": [],
   "source": [
    "collection = CollectionData(collection_name)\n",
    "database = Database(collection)\n",
    "jobclient = JobClient(collection)"
   ]
  },
  {
   "cell_type": "markdown",
   "metadata": {},
   "source": [
    "### Get Working Models"
   ]
  },
  {
   "cell_type": "code",
   "execution_count": null,
   "metadata": {},
   "outputs": [],
   "source": [
    "# Obtain models data from what is currently on disk.\n",
    "model_ids = collection.get_models()"
   ]
  },
  {
   "cell_type": "markdown",
   "metadata": {},
   "source": [
    "### Run `conflate_model`"
   ]
  },
  {
   "cell_type": "code",
   "execution_count": null,
   "metadata": {},
   "outputs": [],
   "source": [
    "conflate_step_processor = ConflateModelStepProcessor(collection, model_ids)\n",
    "conflate_step_processor.execute_step(jobclient, database, timeout=5)"
   ]
  },
  {
   "cell_type": "markdown",
   "metadata": {},
   "source": [
    "### Load Conflation Information to Database"
   ]
  },
  {
   "cell_type": "code",
   "execution_count": null,
   "metadata": {},
   "outputs": [],
   "source": [
    "succeeded_and_unknown_status_models = [\n",
    "    job_status[0]\n",
    "    for job_status in conflate_step_processor.job_statuses[\"succeeded\"]\n",
    "    + conflate_step_processor.job_statuses[\"unknown\"]\n",
    "]\n",
    "load_conflation(succeeded_and_unknown_status_models, database)"
   ]
  },
  {
   "cell_type": "markdown",
   "metadata": {},
   "source": [
    "### Update `network_to_id` Table in Database\n",
    "Build a modified network by skipping over reaches eclipsed by adjacent reaches"
   ]
  },
  {
   "cell_type": "code",
   "execution_count": null,
   "metadata": {},
   "outputs": [],
   "source": [
    "update_network(database)"
   ]
  },
  {
   "cell_type": "markdown",
   "metadata": {},
   "source": [
    "### Get Working Reaches"
   ]
  },
  {
   "cell_type": "code",
   "execution_count": null,
   "metadata": {},
   "outputs": [],
   "source": [
    "reaches = database.get_reaches_by_models(model_ids)\n",
    "reach_data = [(data[0], data[2]) for data in reaches]"
   ]
  },
  {
   "cell_type": "markdown",
   "metadata": {},
   "source": [
    "### Run `extract_submodel` step"
   ]
  },
  {
   "cell_type": "code",
   "execution_count": null,
   "metadata": {},
   "outputs": [],
   "source": [
    "submodel_step_processor = GenericReachStepProcessor(collection, reach_data, \"extract_submodel\")\n",
    "submodel_step_processor.execute_step(jobclient, database, timeout=5)"
   ]
  },
  {
   "cell_type": "markdown",
   "metadata": {},
   "source": [
    "### Run `create_ras_terrain` step"
   ]
  },
  {
   "cell_type": "code",
   "execution_count": null,
   "metadata": {},
   "outputs": [],
   "source": [
    "valid_reaches = [\n",
    "    (job_status[0], \"\")\n",
    "    for job_status in submodel_step_processor.job_statuses[\"succeeded\"]\n",
    "    + submodel_step_processor.job_statuses[\"unknown\"]\n",
    "]\n",
    "terrain_step_processor = GenericReachStepProcessor(collection, valid_reaches, \"create_ras_terrain\")\n",
    "terrain_step_processor.execute_step(jobclient, database, timeout=3)"
   ]
  },
  {
   "cell_type": "markdown",
   "metadata": {},
   "source": [
    "### Run `create_model_run_normal_depth` step"
   ]
  },
  {
   "cell_type": "code",
   "execution_count": null,
   "metadata": {},
   "outputs": [],
   "source": [
    "valid_reaches = [\n",
    "    (job_status[0], \"\")\n",
    "    for job_status in terrain_step_processor.job_statuses[\"succeeded\"]\n",
    "    + terrain_step_processor.job_statuses[\"unknown\"]\n",
    "]\n",
    "create_model_step_processor = GenericReachStepProcessor(collection, valid_reaches, \"create_model_run_normal_depth\")\n",
    "create_model_step_processor.execute_step(jobclient, database, timeout=10)"
   ]
  },
  {
   "cell_type": "markdown",
   "metadata": {},
   "source": [
    "### Run `run_incremental_normal_depth` step"
   ]
  },
  {
   "cell_type": "code",
   "execution_count": null,
   "metadata": {},
   "outputs": [],
   "source": [
    "valid_reaches = [\n",
    "    (job_status[0], \"\")\n",
    "    for job_status in create_model_step_processor.job_statuses[\"succeeded\"]\n",
    "    + create_model_step_processor.job_statuses[\"unknown\"]\n",
    "]\n",
    "nd_step_processor = GenericReachStepProcessor(collection, reach_data, \"run_incremental_normal_depth\")\n",
    "nd_step_processor.execute_step(jobclient, database, timeout=25)"
   ]
  },
  {
   "cell_type": "markdown",
   "metadata": {},
   "source": [
    "### Initial `run_known_wse` and Initial `create_rating_curves_db`"
   ]
  },
  {
   "cell_type": "code",
   "execution_count": null,
   "metadata": {},
   "outputs": [],
   "source": [
    "outlet_reaches = [data[0] for data in reaches if data[1] is None]\n",
    "execute_ikwse_for_network(\n",
    "    [(reach, None) for reach in outlet_reaches],\n",
    "    collection,\n",
    "    database,\n",
    "    jobclient,\n",
    "    timeout=20,\n",
    ")"
   ]
  },
  {
   "cell_type": "markdown",
   "metadata": {},
   "source": [
    "### Final `run_known_wse`"
   ]
  },
  {
   "cell_type": "code",
   "execution_count": null,
   "metadata": {},
   "outputs": [],
   "source": [
    "valid_reaches = [\n",
    "    (data[0], data[1])\n",
    "    for data in reaches\n",
    "    if data[1] is not None\n",
    "    and data[0]\n",
    "    in [\n",
    "        job_status[0]\n",
    "        for job_status in nd_step_processor.job_statuses[\"succeeded\"] + nd_step_processor.job_statuses[\"unknown\"]\n",
    "        # to do: also check if ind successful for downstream reach, and that ikwse was successful for this reach\n",
    "    ]\n",
    "]\n",
    "\n",
    "kwse_step_processor = KWSEStepProcessor(collection, valid_reaches)\n",
    "kwse_step_processor.execute_step(jobclient, database, timeout=180)"
   ]
  },
  {
   "cell_type": "markdown",
   "metadata": {},
   "source": [
    "### Final `create_rating_curves_db` step"
   ]
  },
  {
   "cell_type": "code",
   "execution_count": null,
   "metadata": {},
   "outputs": [],
   "source": [
    "valid_reaches = [\n",
    "    job_status[0]\n",
    "    for job_status in kwse_step_processor.job_statuses[\"succeeded\"] + kwse_step_processor.job_statuses[\"unknown\"]\n",
    "]\n",
    "rc_step_processor = GenericReachStepProcessor(collection, reach_data, \"create_rating_curves_db\")\n",
    "rc_step_processor.execute_step(jobclient, database, timeout=15)"
   ]
  },
  {
   "cell_type": "markdown",
   "metadata": {},
   "source": [
    "### Merge Rating Curves"
   ]
  },
  {
   "cell_type": "code",
   "execution_count": null,
   "metadata": {},
   "outputs": [],
   "source": [
    "load_all_rating_curves(database)"
   ]
  },
  {
   "cell_type": "markdown",
   "metadata": {},
   "source": [
    "### Run `create_fim_lib` Step"
   ]
  },
  {
   "cell_type": "code",
   "execution_count": null,
   "metadata": {},
   "outputs": [],
   "source": [
    "valid_reaches = [\n",
    "    job_status[0]\n",
    "    for job_status in rc_step_processor.job_statuses[\"succeeded\"] + rc_step_processor.job_statuses[\"unknown\"]\n",
    "]\n",
    "fimlib_step_processor = GenericReachStepProcessor(collection, reach_data, \"create_fim_lib\")\n",
    "fimlib_step_processor.execute_step(jobclient, database, timeout=150)"
   ]
  },
  {
   "cell_type": "markdown",
   "metadata": {},
   "source": [
    "### Create extent library step"
   ]
  },
  {
   "cell_type": "code",
   "execution_count": null,
   "metadata": {},
   "outputs": [],
   "source": [
    "create_extent_lib(collection)"
   ]
  },
  {
   "cell_type": "markdown",
   "metadata": {},
   "source": [
    "### Create Flows2FIM Start Reaches File"
   ]
  },
  {
   "cell_type": "code",
   "execution_count": null,
   "metadata": {},
   "outputs": [],
   "source": [
    "outlet_reaches = [data[0] for data in reaches if data[1] is None]\n",
    "create_f2f_start_file(outlet_reaches, collection.f2f_start_file)"
   ]
  }
 ],
 "metadata": {
  "kernelspec": {
   "display_name": "Python 3 (ipykernel)",
   "language": "python",
   "name": "python3"
  },
  "language_info": {
   "codemirror_mode": {
    "name": "ipython",
    "version": 3
   },
   "file_extension": ".py",
   "mimetype": "text/x-python",
   "name": "python",
   "nbconvert_exporter": "python",
   "pygments_lexer": "ipython3",
   "version": "3.12.4"
  }
 },
 "nbformat": 4,
 "nbformat_minor": 4
}
