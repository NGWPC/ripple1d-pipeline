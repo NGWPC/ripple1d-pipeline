{
    "cells": [
        {
            "cell_type": "markdown",
            "metadata": {},
            "source": [
                "# Batch Process Source HEC-RAS Models\n",
                "Generate FIM Libraries for multiple HEC-RAS Models"
            ]
        },
        {
            "cell_type": "code",
            "execution_count": 1,
            "metadata": {},
            "outputs": [],
            "source": [
                "%load_ext autoreload\n",
                "%autoreload 2\n",
                "\n",
                "from scripts import *\n",
                "from scripts.setup import Database\n",
                "from scripts.setup import CollectionData\n",
                "from scripts.setup import STACImporter # Remove when get working models is refactored\n",
                "from scripts.process import *\n",
                "from scripts.process import JobClient\n",
                "from scripts.process import ConflateModelBatchProcessor\n",
                "from scripts.process import extract_submodel_batchProcessor, ReachData\n",
                "# from time import sleep\n",
                "# sleep(60*18)"
            ]
        },
        {
            "cell_type": "markdown",
            "metadata": {},
            "source": [
                "### Instantiate CollectionData and Database"
            ]
        },
        {
            "cell_type": "code",
            "execution_count": null,
            "metadata": {},
            "outputs": [],
            "source": [
                "# All paths should be defined from CollectionData object\n",
                "collection = CollectionData(\"\") # Insert Collection name - example: \"ble_12100302_Medina\"\n",
                "\n",
                "database = Database(collection)"
            ]
        },
        {
            "cell_type": "markdown",
            "metadata": {},
            "source": [
                "### Get Working Models"
            ]
        },
        {
            "cell_type": "code",
            "execution_count": null,
            "metadata": {},
            "outputs": [],
            "source": [
                "#Instead of polling the STAC Collection as done previously, we gather models_data from what is currently on disk. \n",
                "model_ids = collection.get_models()"
            ]
        },
        {
            "cell_type": "markdown",
            "metadata": {},
            "source": [
                "### Run `conflate_model`"
            ]
        },
        {
            "cell_type": "code",
            "execution_count": null,
            "metadata": {},
            "outputs": [],
            "source": [
                "jobclient = JobClient(collection)\n",
                "\n",
                "conflate_model_batch = ConflateModelBatchProcessor(collection, jobclient, database)\n",
                "\n",
                "conflate_model_batch.conflate_model_batch_process()\n",
                "\n",
                "if conflate_model_batch.stop_on_error and (len(conflate_model_batch.failed) + len(conflate_model_batch.not_accepted) + len(conflate_model_batch.unknown)) > 0:\n",
                "    raise Exception(\"One or more model failed. Stopping Execution. Please address and then run below cells.\")\n",
                "# from scripts.qc import poll_and_update_job_status, get_reach_status_by_process\n",
                "# poll_and_update_job_status(db_path, \"conflate_model\", \"models\")\n",
                "# succeded_models, failed_models, not_accepted_models = get_reach_status_by_process(db_path, \"conflate_model\", \"models\")"
            ]
        },
        {
            "cell_type": "markdown",
            "metadata": {},
            "source": [
                "### Load Conflation Information to Database"
            ]
        },
        {
            "cell_type": "code",
            "execution_count": null,
            "metadata": {},
            "outputs": [],
            "source": [
                "#TODO \n",
                "# Create a @dataclass for model_job_status & reach_job_status\n",
                "succeeded_and_unknown_status_models = [model_id[0] for model_id in conflate_model_batch.succeded + conflate_model_batch.unknown]\n",
                "load_conflation(succeeded_and_unknown_status_models, database)"
            ]
        },
        {
            "cell_type": "markdown",
            "metadata": {},
            "source": [
                "### Update `network_to_id` Table in Database\n",
                "Build a modified network by skipping over reaches eclipsed by adjacent reaches"
            ]
        },
        {
            "cell_type": "code",
            "execution_count": null,
            "metadata": {},
            "outputs": [],
            "source": [
                "update_network(database)"
            ]
        },
        {
            "cell_type": "markdown",
            "metadata": {},
            "source": [
                "### Get Working Reaches"
            ]
        },
        {
            "cell_type": "code",
            "execution_count": null,
            "metadata": {},
            "outputs": [],
            "source": [
                "reaches = database.get_reaches_by_models()\n",
                "reach_data = [(data[0], data[2]) for data in reaches]\n",
                "# reach_data = [ReachData(reach[0], reach[1], reach[2]) for reach in reaches]"
            ]
        },
        {
            "cell_type": "markdown",
            "metadata": {},
            "source": [
                "### Run `extract_submodel`"
            ]
        },
        {
            "cell_type": "code",
            "execution_count": null,
            "metadata": {},
            "outputs": [],
            "source": [
                "extract_submodel_batch = ExecuteReachStepBatchProcessor(collection, reach_data, jobclient, database)\n",
                "\n",
                "extract_submodel_batch.execute_extract_submodel_process()\n",
                "\n",
                "extract_submodel_batch._set_succesful_and_unknown_reaches_list()\n",
                "\n",
                "if extract_submodel_batch.stop_on_error and (len(extract_submodel_batch.failed) + len(extract_submodel_batch.not_accepted) + len(extract_submodel_batch.unknown)) > 0:\n",
                "    raise Exception(\"One or more reach failed. Stopping Execution. Please address and then run below cells.\")\n",
                "\n",
                "# from scripts.qc import poll_and_update_job_status\n",
                "# poll_and_update_job_status(db_path, \"extract_submodel\")\n",
                "# succeded_models, failed_models, not_accepted_models = get_reach_status_by_process(db_path, \"extract_submodel\")"
            ]
        },
        {
            "cell_type": "markdown",
            "metadata": {},
            "source": [
                "### Run `create_ras_terrain`"
            ]
        },
        {
            "cell_type": "code",
            "execution_count": null,
            "metadata": {},
            "outputs": [],
            "source": [
                "create_ras_terrain_batch = ExecuteReachStepBatchProcessor(collection, reach_data, jobclient, database) \n",
                "\n",
                "create_ras_terrain_batch.execute_process(\"create_ras_terrain\")\n",
                "\n",
                "if create_ras_terrain_batch.stop_on_error and (len(create_ras_terrain_batch.failed) + len(create_ras_terrain_batch.not_accepted)) > 0:\n",
                "    raise Exception(\"One or more reach failed. Stopping Execution. Please address and then run below cells.\")\n"
            ]
        },
        {
            "cell_type": "markdown",
            "metadata": {},
            "source": [
                "### Run `create_model_run_normal_depth`"
            ]
        },
        {
            "cell_type": "code",
            "execution_count": null,
            "metadata": {},
            "outputs": [],
            "source": [
                "create_model_run_normal_depth_batch = ExecuteReachStepBatchProcessor(collection, reach_data, jobclient, database) \n",
                "\n",
                "create_ras_terrain_batch.execute_process(\"create_model_run_normal_depth\")\n",
                "\n",
                "if create_ras_terrain_batch.stop_on_error and (len(create_ras_terrain_batch.failed) + len(create_ras_terrain_batch.not_accepted) + len(create_ras_terrain_batch.unknown)) > 0:\n",
                "    raise Exception(\"One or more reach failed. Stopping Execution. Please address and then run below cells.\")"
            ]
        },
        {
            "cell_type": "markdown",
            "metadata": {},
            "source": [
                "### Run `run_incremental_normal_depth`"
            ]
        },
        {
            "cell_type": "code",
            "execution_count": null,
            "metadata": {},
            "outputs": [],
            "source": [
                "run_incremental_normal_depth_batch = ExecuteReachStepBatchProcessor(collection, reach_data, jobclient, database) \n",
                "\n",
                "run_incremental_normal_depth_batch.execute_process(\"run_incremental_normal_depth\")\n",
                "\n",
                "if run_incremental_normal_depth_batch.stop_on_error and (len(run_incremental_normal_depth_batch.failed) + len(run_incremental_normal_depth_batch.not_accepted) + len(run_incremental_normal_depth_batch.unknown)) > 0:\n",
                "    raise Exception(\"One or more reach failed. Stopping Execution. Please address and then run below cells.\")"
            ]
        },
        {
            "cell_type": "markdown",
            "metadata": {},
            "source": [
                "### Run `run_known_wse` for Network"
            ]
        },
        {
            "cell_type": "code",
            "execution_count": null,
            "metadata": {},
            "outputs": [],
            "source": [
                "outlet_reaches = [data[0] for data in reaches if data[1] is None]\n",
                "\n",
                "execute_kwse_for_network([(reach, None) for reach in outlet_reaches], collection, database, jobclient)"
            ]
        },
        {
            "cell_type": "code",
            "execution_count": null,
            "metadata": {},
            "outputs": [],
            "source": [
                "# # Optional if KWSE is not performed\n",
                "# create_fim_lib_batch = ExecuteReachStepBatchProcessor(collection, reach_data, jobclient, database) \n",
                "\n",
                "# create_fim_lib_batch.execute_process(\"run_incremental_normal_depth\")\n",
                "\n",
                "# if create_fim_lib_batch.stop_on_error and (len(create_fim_lib_batch.failed) + len(create_fim_lib_batch.not_accepted) + len(create_fim_lib_batch.unknown)) > 0:\n",
                "#     raise Exception(\"One or more reach failed. Stopping Execution. Please address and then run below cells.\")\n",
                "\n",
                "# outlet_reaches = [data[0] for data in reaches if data[1] is None]"
            ]
        },
        {
            "cell_type": "markdown",
            "metadata": {},
            "source": [
                "## Merge Rating Curves"
            ]
        },
        {
            "cell_type": "code",
            "execution_count": null,
            "metadata": {},
            "outputs": [],
            "source": [
                "load_all_rating_curves(collection.library_dir, database)"
            ]
        },
        {
            "cell_type": "markdown",
            "metadata": {},
            "source": [
                "## Create Flows2FIM Start Reaches File"
            ]
        },
        {
            "cell_type": "code",
            "execution_count": 18,
            "metadata": {},
            "outputs": [],
            "source": [
                "from scripts.process import create_f2f_start_file\n",
                "create_f2f_start_file(outlet_reaches, collection.f2f_start_file)"
            ]
        },
        {
            "cell_type": "code",
            "execution_count": 16,
            "metadata": {},
            "outputs": [],
            "source": [
                "# !jupyter nbconvert --to html \"process copy 2.ipynb\"\n"
            ]
        }
    ],
    "metadata": {
        "kernelspec": {
            "display_name": "Python 3 (ipykernel)",
            "language": "python",
            "name": "python3"
        },
        "language_info": {
            "codemirror_mode": {
                "name": "ipython",
                "version": 3
            },
            "file_extension": ".py",
            "mimetype": "text/x-python",
            "name": "python",
            "nbconvert_exporter": "python",
            "pygments_lexer": "ipython3",
            "version": "3.12.4"
        }
    },
    "nbformat": 4,
    "nbformat_minor": 4
}
