{
    "cells": [
        {
            "cell_type": "markdown",
            "metadata": {},
            "source": [
                "# Batch Process Source HEC-RAS Models\n",
                "Generate FIM Libraries for multiple HEC-RAS Models"
            ]
        },
        {
            "cell_type": "code",
            "execution_count": 1,
            "metadata": {},
            "outputs": [],
            "source": [
                "%load_ext autoreload\n",
                "%autoreload 2\n",
                "\n",
                "from scripts import *\n",
                "from scripts.processing import *\n",
                "from scripts.setup import get_models_from_stac\n",
                "import os\n",
                "# from time import sleep\n",
                "# sleep(60*18)"
            ]
        },
        {
            "cell_type": "markdown",
            "metadata": {},
            "source": [
                "### `Parameters`"
            ]
        },
        {
            "cell_type": "code",
            "execution_count": 18,
            "metadata": {
                "tags": [
                    "parameters"
                ]
            },
            "outputs": [],
            "source": [
                "stac_collection_id = \"\"  # Collection name\n",
                "stop_on_error = False"
            ]
        },
        {
            "cell_type": "code",
            "execution_count": null,
            "metadata": {},
            "outputs": [],
            "source": [
                "root_dir = os.path.join(COLLECTIONS_ROOT_DIR, stac_collection_id)\n",
                "db_path = os.path.join(root_dir, \"ripple.gpkg\")\n",
                "source_models_dir = os.path.join(root_dir, \"source_models\")\n",
                "submodels_dir = os.path.join(root_dir, \"submodels\")\n",
                "library_dir = os.path.join(root_dir, \"library\")\n",
                "f2f_start_file = os.path.join(root_dir, \"start_reaches.csv\")"
            ]
        },
        {
            "cell_type": "markdown",
            "metadata": {},
            "source": [
                "### Get Working Models"
            ]
        },
        {
            "cell_type": "code",
            "execution_count": null,
            "metadata": {},
            "outputs": [],
            "source": [
                "models_data = get_models_from_stac(STAC_URL, stac_collection_id)\n",
                "model_ids = list(models_data.keys())"
            ]
        },
        {
            "cell_type": "markdown",
            "metadata": {},
            "source": [
                "### Run `conflate_model`"
            ]
        },
        {
            "cell_type": "code",
            "execution_count": null,
            "metadata": {},
            "outputs": [],
            "source": [
                "succeded_models, failed_models, not_accepted_models, unknown_status_models = execute_model_step(model_ids, \"conflate_model\", db_path, source_models_dir, 10)\n",
                "if stop_on_error and (len(failed_models) + len(not_accepted_models) +len(unknown_status_models)) > 0:\n",
                "    raise Exception(\"One or more model failed. Stopping Execution. Please address and then run below cells.\")\n",
                "# from scripts.debug import poll_and_update_job_status, get_reach_status_by_process\n",
                "# poll_and_update_job_status(db_path, \"conflate_model\", \"models\")\n",
                "# succeded_models, failed_models, not_accepted_models = get_reach_status_by_process(db_path, \"conflate_model\", \"models\")"
            ]
        },
        {
            "cell_type": "markdown",
            "metadata": {},
            "source": [
                "### Load Conflation Information to Database"
            ]
        },
        {
            "cell_type": "code",
            "execution_count": null,
            "metadata": {},
            "outputs": [],
            "source": [
                "load_conflation([model_id_job_id_status[0] for model_id_job_id_status in succeded_models + unknown_status_models], source_models_dir, db_path)"
            ]
        },
        {
            "cell_type": "markdown",
            "metadata": {},
            "source": [
                "### Update `network_to_id` Table in Database\n",
                "Build a modified network by skipping over reaches eclipsed by adjacent reaches"
            ]
        },
        {
            "cell_type": "code",
            "execution_count": null,
            "metadata": {},
            "outputs": [],
            "source": [
                "update_network(db_path)"
            ]
        },
        {
            "cell_type": "markdown",
            "metadata": {},
            "source": [
                "### Get Working Reaches"
            ]
        },
        {
            "cell_type": "code",
            "execution_count": null,
            "metadata": {},
            "outputs": [],
            "source": [
                "reach_data = get_reaches_by_models(db_path, model_ids)"
            ]
        },
        {
            "cell_type": "markdown",
            "metadata": {},
            "source": [
                "### Run `extract_submodel`"
            ]
        },
        {
            "cell_type": "code",
            "execution_count": null,
            "metadata": {},
            "outputs": [],
            "source": [
                "succeded_reaches, failed_reaches, not_accepted_reaches, unknown_status_reaches = execute_step([(data[0], data[2]) for data in reach_data], \"extract_submodel\", db_path, source_models_dir, submodels_dir, 5)\n",
                "if stop_on_error and (len(failed_reaches) + len(not_accepted_reaches) + len(unknown_status_reaches)) > 0:\n",
                "    raise Exception(\"One or more reach failed. Stopping Execution. Please address and then run below cells.\")\n",
                "# from scripts.debug import poll_and_update_job_status\n",
                "# poll_and_update_job_status(db_path, \"extract_submodel\")\n",
                "# succeded_models, failed_models, not_accepted_models = get_reach_status_by_process(db_path, \"extract_submodel\")"
            ]
        },
        {
            "cell_type": "markdown",
            "metadata": {},
            "source": [
                "### Run `create_ras_terrain`"
            ]
        },
        {
            "cell_type": "code",
            "execution_count": null,
            "metadata": {},
            "outputs": [],
            "source": [
                "succeded_reaches, failed_reaches, not_accepted_reaches, unknown_status_reaches = execute_step([(reach[0], \"\") for reach in succeded_reaches+unknown_status_reaches], \"create_ras_terrain\", db_path, source_models_dir, submodels_dir, 3)\n",
                "if stop_on_error and (len(failed_reaches) + len(not_accepted_reaches)) > 0:\n",
                "    raise Exception(\"One or more reach failed. Stopping Execution. Please address and then run below cells.\")"
            ]
        },
        {
            "cell_type": "markdown",
            "metadata": {},
            "source": [
                "### Run `create_model_run_normal_depth`"
            ]
        },
        {
            "cell_type": "code",
            "execution_count": null,
            "metadata": {},
            "outputs": [],
            "source": [
                "succeded_reaches, failed_reaches, not_accepted_reaches, unknown_status_reaches = execute_step([(reach[0], \"\") for reach in succeded_reaches + unknown_status_reaches], \"create_model_run_normal_depth\", db_path, source_models_dir, submodels_dir, 10)\n",
                "if stop_on_error and (len(failed_reaches) + len(not_accepted_reaches) + len(unknown_status_reaches)) > 0:\n",
                "    raise Exception(\"One or more reach failed. Stopping Execution. Please address and then run below cells.\")"
            ]
        },
        {
            "cell_type": "markdown",
            "metadata": {},
            "source": [
                "### Run `run_incremental_normal_depth`"
            ]
        },
        {
            "cell_type": "code",
            "execution_count": null,
            "metadata": {},
            "outputs": [],
            "source": [
                "succeded_reaches, failed_reaches, not_accepted_reaches, unknown_status_reaches = execute_step([(reach[0], \"\") for reach in succeded_reaches + unknown_status_reaches], \"run_incremental_normal_depth\", db_path, source_models_dir, submodels_dir, 15)\n",
                "if stop_on_error and (len(failed_reaches) + len(not_accepted_reaches) + len(unknown_status_reaches)) > 0:\n",
                "    raise Exception(\"One or more reach failed. Stopping Execution. Please address and then run below cells.\")"
            ]
        },
        {
            "cell_type": "markdown",
            "metadata": {},
            "source": [
                "### Run `run_known_wse` for Network"
            ]
        },
        {
            "cell_type": "code",
            "execution_count": null,
            "metadata": {},
            "outputs": [],
            "source": [
                "outlet_reaches = [data[0] for data in reach_data if data[1] is None]\n",
                "execute_kwse_for_network([(reach, None) for reach in outlet_reaches], submodels_dir, db_path, True, library_dir, False)"
            ]
        },
        {
            "cell_type": "code",
            "execution_count": null,
            "metadata": {},
            "outputs": [],
            "source": [
                "# # Optional if KWSE is not performed\n",
                "# succeded_reaches, failed_reaches, not_accepted_reaches, unknown_status_reaches = execute_step([(reach[0], \"\") for reach in succeded_reaches + unknown_status_reaches], \"create_fim_lib\", db_path, source_models_dir, submodels_dir, library_dir, timeout_minutes=20)\n",
                "# if stop_on_error and (len(failed_reaches) + len(not_accepted_reaches) + len(unknown_status_reaches)) > 0:\n",
                "#     raise Exception(\"One or more reach failed. Stopping Execution. Please address and then run below cells.\")\n",
                "# outlet_reaches = [data[0] for data in reach_data if data[1] is None]"
            ]
        },
        {
            "cell_type": "markdown",
            "metadata": {},
            "source": [
                "## Merge Rating Curves"
            ]
        },
        {
            "cell_type": "code",
            "execution_count": null,
            "metadata": {},
            "outputs": [],
            "source": [
                "load_all_rating_curves(library_dir, db_path)"
            ]
        },
        {
            "cell_type": "markdown",
            "metadata": {},
            "source": [
                "## Create Flows2FIM Start Reaches File"
            ]
        },
        {
            "cell_type": "code",
            "execution_count": 18,
            "metadata": {},
            "outputs": [],
            "source": [
                "from scripts.processing import create_f2f_start_file\n",
                "create_f2f_start_file(outlet_reaches, f2f_start_file)"
            ]
        },
        {
            "cell_type": "code",
            "execution_count": 16,
            "metadata": {},
            "outputs": [],
            "source": [
                "# !jupyter nbconvert --to html \"process copy 2.ipynb\"\n"
            ]
        }
    ],
    "metadata": {
        "kernelspec": {
            "display_name": "Python 3 (ipykernel)",
            "language": "python",
            "name": "python3"
        },
        "language_info": {
            "codemirror_mode": {
                "name": "ipython",
                "version": 3
            },
            "file_extension": ".py",
            "mimetype": "text/x-python",
            "name": "python",
            "nbconvert_exporter": "python",
            "pygments_lexer": "ipython3",
            "version": "3.12.4"
        }
    },
    "nbformat": 4,
    "nbformat_minor": 4
}
