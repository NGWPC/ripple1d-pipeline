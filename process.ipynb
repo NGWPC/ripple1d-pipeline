{
    "cells": [
        {
            "cell_type": "markdown",
            "metadata": {},
            "source": [
                "# Batch Process Source HEC-RAS Models\n",
                "Generate FIM Libraries for multiple HEC-RAS Models"
            ]
        },
        {
            "cell_type": "code",
            "execution_count": null,
            "metadata": {},
            "outputs": [],
            "source": [
                "%load_ext autoreload\n",
                "%autoreload 2\n",
                "\n",
                "from scripts import *\n",
                "from scripts.processing import *\n",
                "from scripts.setup import get_models_from_stac\n",
                "import os\n",
                "# from time import sleep\n",
                "# sleep(60*18)"
            ]
        },
        {
            "cell_type": "markdown",
            "metadata": {},
            "source": [
                "### `Parameters`"
            ]
        },
        {
            "cell_type": "code",
            "execution_count": 55,
            "metadata": {
                "tags": [
                    "parameters"
                ]
            },
            "outputs": [],
            "source": [
                "stac_collection_id = \"\"  # Collection name\n",
                "stop_on_error = False"
            ]
        },
        {
            "cell_type": "code",
            "execution_count": 56,
            "metadata": {},
            "outputs": [],
            "source": [
                "root_dir = os.path.join(COLLECTIONS_ROOT_DIR, stac_collection_id)\n",
                "db_path = os.path.join(root_dir, \"ripple.gpkg\")\n",
                "source_models_dir = os.path.join(root_dir, \"source_models\")\n",
                "submodels_dir = os.path.join(root_dir, \"submodels\")\n",
                "library_dir = os.path.join(root_dir, \"library\")\n",
                "extent_library_dir = os.path.join(root_dir, \"library_extent\")\n",
                "f2f_start_file = os.path.join(root_dir, \"start_reaches.csv\")"
            ]
        },
        {
            "cell_type": "markdown",
            "metadata": {},
            "source": [
                "### Get Working Models"
            ]
        },
        {
            "cell_type": "code",
            "execution_count": null,
            "metadata": {},
            "outputs": [],
            "source": [
                "models_data = get_models_from_stac(STAC_URL, stac_collection_id)\n",
                "# models_data = {\"Baxter\": {\"model_name\": \"Baxter\"}}\n",
                "model_ids = list(models_data.keys())"
            ]
        },
        {
            "cell_type": "markdown",
            "metadata": {},
            "source": [
                "### `conflate_model`"
            ]
        },
        {
            "cell_type": "code",
            "execution_count": null,
            "metadata": {},
            "outputs": [],
            "source": [
                "succeded_models, failed_models, not_accepted_models, unknown_status_models = execute_model_step(model_ids, \"conflate_model\", db_path, source_models_dir, timeout_minutes=10)\n",
                "if stop_on_error and (len(failed_models) + len(not_accepted_models) +len(unknown_status_models)) > 0:\n",
                "    raise Exception(\"One or more model failed. Stopping Execution. Please address and then run below cells.\")\n",
                "# from scripts.debug import poll_and_update_job_status, get_reach_status_by_process\n",
                "# poll_and_update_job_status(db_path, \"conflate_model\", \"models\")\n",
                "# succeded_models, failed_models, not_accepted_models = get_reach_status_by_process(db_path, \"conflate_model\", \"models\")"
            ]
        },
        {
            "cell_type": "markdown",
            "metadata": {},
            "source": [
                "### Load Conflation Information to Database"
            ]
        },
        {
            "cell_type": "code",
            "execution_count": null,
            "metadata": {},
            "outputs": [],
            "source": [
                "load_conflation([model_id_job_id_status[0] for model_id_job_id_status in succeded_models + unknown_status_models], source_models_dir, db_path)"
            ]
        },
        {
            "cell_type": "markdown",
            "metadata": {},
            "source": [
                "### Update `network_to_id` Table in Database\n",
                "Build a modified network by skipping over reaches eclipsed by adjacent reaches"
            ]
        },
        {
            "cell_type": "code",
            "execution_count": null,
            "metadata": {},
            "outputs": [],
            "source": [
                "update_network(db_path)"
            ]
        },
        {
            "cell_type": "markdown",
            "metadata": {},
            "source": [
                "### Get Working Reaches"
            ]
        },
        {
            "cell_type": "code",
            "execution_count": null,
            "metadata": {},
            "outputs": [],
            "source": [
                "reach_data = get_reaches_by_models(db_path, model_ids)"
            ]
        },
        {
            "cell_type": "markdown",
            "metadata": {},
            "source": [
                "### `extract_submodel`"
            ]
        },
        {
            "cell_type": "code",
            "execution_count": null,
            "metadata": {},
            "outputs": [],
            "source": [
                "succeded_reaches, failed_reaches, not_accepted_reaches, unknown_status_reaches = execute_step([(data[0], data[2]) for data in reach_data], \"extract_submodel\", db_path, source_models_dir, submodels_dir, timeout_minutes=5)\n",
                "if stop_on_error and (len(failed_reaches) + len(not_accepted_reaches) + len(unknown_status_reaches)) > 0:\n",
                "    raise Exception(\"One or more reach failed. Stopping Execution. Please address and then run below cells.\")\n",
                "# from scripts.debug import poll_and_update_job_status\n",
                "# poll_and_update_job_status(db_path, \"extract_submodel\")\n",
                "# succeded_models, failed_models, not_accepted_models = get_reach_status_by_process(db_path, \"extract_submodel\")"
            ]
        },
        {
            "cell_type": "markdown",
            "metadata": {},
            "source": [
                "### `create_ras_terrain`"
            ]
        },
        {
            "cell_type": "code",
            "execution_count": null,
            "metadata": {},
            "outputs": [],
            "source": [
                "succeded_reaches, failed_reaches, not_accepted_reaches, unknown_status_reaches = execute_step([(reach[0], \"\") for reach in succeded_reaches+unknown_status_reaches], \"create_ras_terrain\", db_path, source_models_dir, submodels_dir, timeout_minutes=5)\n",
                "if stop_on_error and (len(failed_reaches) + len(not_accepted_reaches)) > 0:\n",
                "    raise Exception(\"One or more reach failed. Stopping Execution. Please address and then run below cells.\")"
            ]
        },
        {
            "cell_type": "markdown",
            "metadata": {},
            "source": [
                "### `create_model_run_normal_depth`"
            ]
        },
        {
            "cell_type": "code",
            "execution_count": null,
            "metadata": {},
            "outputs": [],
            "source": [
                "succeded_reaches, failed_reaches, not_accepted_reaches, unknown_status_reaches = execute_step([(reach[0], \"\") for reach in succeded_reaches + unknown_status_reaches], \"create_model_run_normal_depth\", db_path, source_models_dir, submodels_dir, timeout_minutes=10)\n",
                "if stop_on_error and (len(failed_reaches) + len(not_accepted_reaches) + len(unknown_status_reaches)) > 0:\n",
                "    raise Exception(\"One or more reach failed. Stopping Execution. Please address and then run below cells.\")"
            ]
        },
        {
            "cell_type": "markdown",
            "metadata": {},
            "source": [
                "### `run_incremental_normal_depth`"
            ]
        },
        {
            "cell_type": "code",
            "execution_count": null,
            "metadata": {},
            "outputs": [],
            "source": [
                "succeded_reaches, failed_reaches, not_accepted_reaches, unknown_status_reaches = execute_step([(reach[0], \"\") for reach in succeded_reaches + unknown_status_reaches], \"run_incremental_normal_depth\", db_path, source_models_dir, submodels_dir, timeout_minutes=25)\n",
                "if stop_on_error and (len(failed_reaches) + len(not_accepted_reaches) + len(unknown_status_reaches)) > 0:\n",
                "    raise Exception(\"One or more reach failed. Stopping Execution. Please address and then run below cells.\")"
            ]
        },
        {
            "cell_type": "markdown",
            "metadata": {},
            "source": [
                "### Initial `run_known_wse` and Initial `create_rating_curves_db`"
            ]
        },
        {
            "cell_type": "code",
            "execution_count": null,
            "metadata": {},
            "outputs": [],
            "source": [
                "outlet_reaches = [data[0] for data in reach_data if data[1] is None]\n",
                "execute_ikwse_for_network([(reach, None) for reach in outlet_reaches], submodels_dir, db_path, False, 20)"
            ]
        },
        {
            "cell_type": "markdown",
            "metadata": {},
            "source": [
                "### Final `run_known_wse`"
            ]
        },
        {
            "cell_type": "code",
            "execution_count": null,
            "metadata": {},
            "outputs": [],
            "source": [
                "kwse_reach_data = [(data[0], data[1]) for data in reach_data if data[1] is not None and data[0] in [reach[0] for reach in succeded_reaches + unknown_status_reaches]]\n",
                "\n",
                "succeded_reaches_kwse, failed_reaches_kwse, not_accepted_reaches_kwse, unknown_status_reaches_kwse = execute_kwse_step(kwse_reach_data, db_path, submodels_dir, 180)\n",
                "if stop_on_error and (len(failed_reaches_kwse) + len(not_accepted_reaches_kwse) + len(unknown_status_reaches_kwse)) > 0:\n",
                "    raise Exception(\"One or more reach failed. Stopping Execution. Please address and then run below cells.\")"
            ]
        },
        {
            "cell_type": "code",
            "execution_count": 44,
            "metadata": {},
            "outputs": [],
            "source": [
                "# # Optional if KWSE is not performed\n",
                "# succeded_reaches, failed_reaches, not_accepted_reaches, unknown_status_reaches = execute_step([(reach[0], \"\") for reach in succeded_reaches + unknown_status_reaches], \"create_fim_lib\", db_path, source_models_dir, submodels_dir, library_dir, timeout_minutes=20)\n",
                "# if stop_on_error and (len(failed_reaches) + len(not_accepted_reaches) + len(unknown_status_reaches)) > 0:\n",
                "#     raise Exception(\"One or more reach failed. Stopping Execution. Please address and then run below cells.\")\n",
                "# outlet_reaches = [data[0] for data in reach_data if data[1] is None]"
            ]
        },
        {
            "cell_type": "markdown",
            "metadata": {},
            "source": [
                "### Final `create_rating_curves_db`"
            ]
        },
        {
            "cell_type": "code",
            "execution_count": null,
            "metadata": {},
            "outputs": [],
            "source": [
                "succeded_reaches_rcdb, failed_reaches_rcdb, not_accepted_reaches_rcdb, unknown_status_reaches_rcdb = execute_step([(reach[0], \"\") for reach in succeded_reaches + unknown_status_reaches], \"create_rating_curves_db\", db_path, source_models_dir, submodels_dir, timeout_minutes=15)\n",
                "if stop_on_error and (len(failed_reaches_rcdb) + len(not_accepted_reaches_rcdb) + len(unknown_status_reaches_rcdb)) > 0:\n",
                "    raise Exception(\"One or more reach failed. Stopping Execution. Please address and then run below cells.\")"
            ]
        },
        {
            "cell_type": "markdown",
            "metadata": {},
            "source": [
                "### Merge Rating Curves"
            ]
        },
        {
            "cell_type": "code",
            "execution_count": null,
            "metadata": {},
            "outputs": [],
            "source": [
                "load_all_rating_curves(submodels_dir, db_path)"
            ]
        },
        {
            "cell_type": "markdown",
            "metadata": {},
            "source": [
                "### `create_fim_lib`"
            ]
        },
        {
            "cell_type": "code",
            "execution_count": null,
            "metadata": {},
            "outputs": [],
            "source": [
                "succeded_reaches_fim_lib, failed_reaches_fim_lib, not_accepted_reaches_fim_lib, unknown_status_reaches_fim_lib = execute_step([(reach[0], \"\") for reach in succeded_reaches + unknown_status_reaches], \"create_fim_lib\", db_path, source_models_dir, submodels_dir, library_dir, timeout_minutes=15)\n",
                "if stop_on_error and (len(failed_reaches_fim_lib) + len(not_accepted_reaches_fim_lib) + len(unknown_status_reaches_fim_lib)) > 0:\n",
                "    raise Exception(\"One or more reach failed. Stopping Execution. Please address and then run below cells.\")"
            ]
        },
        {
            "cell_type": "markdown",
            "metadata": {},
            "source": [
                "### Create Extent Library"
            ]
        },
        {
            "cell_type": "code",
            "execution_count": null,
            "metadata": {},
            "outputs": [],
            "source": [
                "create_extent_lib(library_dir, extent_library_dir, submodels_dir)"
            ]
        },
        {
            "cell_type": "markdown",
            "metadata": {},
            "source": [
                "### Create Flows2FIM Start Reaches File"
            ]
        },
        {
            "cell_type": "code",
            "execution_count": 49,
            "metadata": {},
            "outputs": [],
            "source": [
                "from scripts.processing import create_f2f_start_file\n",
                "outlet_reaches = [data[0] for data in reach_data if data[1] is None]\n",
                "create_f2f_start_file(outlet_reaches, f2f_start_file)"
            ]
        },
        {
            "cell_type": "code",
            "execution_count": 50,
            "metadata": {},
            "outputs": [],
            "source": [
                "# !jupyter nbconvert --to html \"process copy 2.ipynb\"\n"
            ]
        }
    ],
    "metadata": {
        "kernelspec": {
            "display_name": "Python 3 (ipykernel)",
            "language": "python",
            "name": "python3"
        },
        "language_info": {
            "codemirror_mode": {
                "name": "ipython",
                "version": 3
            },
            "file_extension": ".py",
            "mimetype": "text/x-python",
            "name": "python",
            "nbconvert_exporter": "python",
            "pygments_lexer": "ipython3",
            "version": "3.12.4"
        }
    },
    "nbformat": 4,
    "nbformat_minor": 4
}
