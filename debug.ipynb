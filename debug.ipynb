{
 "cells": [
  {
   "cell_type": "code",
   "execution_count": null,
   "metadata": {},
   "outputs": [],
   "source": [
    "# Debug a Processed Collection"
   ]
  },
  {
   "cell_type": "code",
   "execution_count": null,
   "metadata": {},
   "outputs": [],
   "source": [
    "%load_ext autoreload\n",
    "%autoreload 2\n",
    "\n",
    "from scripts.debug import *\n",
    "import os"
   ]
  },
  {
   "cell_type": "markdown",
   "metadata": {},
   "source": [
    "### `parameters`"
   ]
  },
  {
   "cell_type": "code",
   "execution_count": null,
   "metadata": {
    "tags": [
     "parameters"
    ]
   },
   "outputs": [],
   "source": [
    "root_dir = r\"Z:\\collections\\ebfe-12040101_WestForkSanJacinto\"\n",
    "\n",
    "\n",
    "db_path = os.path.join(root_dir, \"ripple.db\")\n",
    "error_report_path = os.path.join(root_dir, \"error_report.xlsx\")"
   ]
  },
  {
   "cell_type": "markdown",
   "metadata": {},
   "source": [
    "### Create Excel Error Report"
   ]
  },
  {
   "cell_type": "code",
   "execution_count": null,
   "metadata": {},
   "outputs": [],
   "source": [
    "\n",
    "dfs = []\n",
    "for process_name in [\"extract_submodel\", \"create_ras_terrain\", \"create_model_run_normal_depth\", \"run_incremental_normal_depth\", \"run_known_wse\"]:\n",
    "    # poll_and_update_job_status(db_path, process_name)\n",
    "    _, failed_reaches, _ = get_reach_status_by_process(db_path, process_name)\n",
    "    print(\"failed_reaches\")\n",
    "    df = get_failed_jobs_df(failed_reaches)\n",
    "    print(\"df\")\n",
    "    dfs.append(df)\n",
    "    write_failed_jobs_df_to_excel(df, process_name, error_report_path)"
   ]
  }
 ],
 "metadata": {
  "kernelspec": {
   "display_name": "ripple1d_pipeline",
   "language": "python",
   "name": "python3"
  },
  "language_info": {
   "codemirror_mode": {
    "name": "ipython",
    "version": 3
   },
   "file_extension": ".py",
   "mimetype": "text/x-python",
   "name": "python",
   "nbconvert_exporter": "python",
   "pygments_lexer": "ipython3",
   "version": "3.12.4"
  }
 },
 "nbformat": 4,
 "nbformat_minor": 2
}
