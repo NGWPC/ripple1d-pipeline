{
    "cells": [
        {
            "cell_type": "code",
            "execution_count": null,
            "metadata": {},
            "outputs": [],
            "source": [
                "# Debug a Processed Collection"
            ]
        },
        {
            "cell_type": "code",
            "execution_count": 2,
            "metadata": {},
            "outputs": [],
            "source": [
                "%load_ext autoreload\n",
                "%autoreload 2\n",
                "\n",
                "from scripts.debug import *\n",
                "from scripts.processing import *\n",
                "\n",
                "import os"
            ]
        },
        {
            "cell_type": "markdown",
            "metadata": {},
            "source": [
                "### `parameters`"
            ]
        },
        {
            "cell_type": "code",
            "execution_count": 3,
            "metadata": {
                "tags": [
                    "parameters"
                ]
            },
            "outputs": [],
            "source": [
                "stac_endpoint = \"https://stac2.dewberryanalytics.com\"  # STAC API endpoint\n",
                "stac_collection = \"ble_12040103_EastForkSanJacinto\"  # Collection name\n",
                "\n",
                "root_dir = r\"Z:\\collections\\ble_12040103_EastForkSanJacinto\"\n",
                "nwm_flowlines_path = r\"Z:\\reference_data\\nwm_flowlines.parquet\"\n",
                "\n",
                "db_path = os.path.join(root_dir, \"ripple.gpkg\")\n",
                "source_models_dir = os.path.join(root_dir, \"source_models\")\n",
                "library_dir = os.path.join(root_dir, \"library\")\n",
                "error_report_path = os.path.join(root_dir, \"error_report.xlsx\")"
            ]
        },
        {
            "cell_type": "markdown",
            "metadata": {},
            "source": [
                "### Create Excel Error Report"
            ]
        },
        {
            "cell_type": "code",
            "execution_count": null,
            "metadata": {},
            "outputs": [],
            "source": [
                "%%time\n",
                "dfs = []\n",
                "for process_name in [\"conflate_model\"]:\n",
                "    poll_and_update_job_status(db_path, process_name, \"models\")\n",
                "    _, failed_reaches, _ = get_reach_status_by_process(db_path, process_name, \"models\")\n",
                "    df = get_failed_jobs_df(failed_reaches)\n",
                "    dfs.append(df)\n",
                "    write_failed_jobs_df_to_excel(df, process_name, error_report_path)"
            ]
        },
        {
            "cell_type": "code",
            "execution_count": null,
            "metadata": {},
            "outputs": [],
            "source": [
                "\n",
                "%%time\n",
                "dfs = []\n",
                "for process_name in [\"extract_submodel\", \"create_ras_terrain\", \"create_model_run_normal_depth\", \"run_incremental_normal_depth\", \"run_known_wse\", \"create_fim_lib\"]:\n",
                "    # poll_and_update_job_status(db_path, process_name)\n",
                "    _, failed_reaches, _ = get_reach_status_by_process(db_path, process_name)\n",
                "    df = get_failed_jobs_df(failed_reaches)\n",
                "    dfs.append(df)\n",
                "    write_failed_jobs_df_to_excel(df, process_name, error_report_path)"
            ]
        },
        {
            "cell_type": "markdown",
            "metadata": {},
            "source": [
                "### Create Composite Rasters"
            ]
        },
        {
            "cell_type": "code",
            "execution_count": null,
            "metadata": {},
            "outputs": [],
            "source": [
                "%%time\n",
                "models_files = get_models_from_stac(stac_endpoint, stac_collection)\n",
                "model_ids = list(models_files.keys())\n",
                "reaches = get_reaches_by_models(db_path, model_ids)\n",
                "\n",
                "outlet_reaches = [reach[0] for reach in reaches if reach[1] is None]\n",
                "\n",
                "run_flows2fim(\n",
                "    root_dir,\n",
                "    \"qc\",\n",
                "    library_dir,\n",
                "    db_path,\n",
                "    outlet_reaches\n",
                "    )"
            ]
        },
        {
            "cell_type": "markdown",
            "metadata": {},
            "source": [
                "### Create QC Map"
            ]
        },
        {
            "cell_type": "code",
            "execution_count": null,
            "metadata": {},
            "outputs": [],
            "source": [
                "copy_qc_map(root_dir)"
            ]
        }
    ],
    "metadata": {
        "kernelspec": {
            "display_name": "ripple1d_pipeline",
            "language": "python",
            "name": "python3"
        },
        "language_info": {
            "codemirror_mode": {
                "name": "ipython",
                "version": 3
            },
            "file_extension": ".py",
            "mimetype": "text/x-python",
            "name": "python",
            "nbconvert_exporter": "python",
            "pygments_lexer": "ipython3",
            "version": "3.12.4"
        }
    },
    "nbformat": 4,
    "nbformat_minor": 2
}
